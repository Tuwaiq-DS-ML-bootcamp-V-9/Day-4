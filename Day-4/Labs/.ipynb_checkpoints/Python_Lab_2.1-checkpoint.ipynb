{
 "cells": [
  {
   "cell_type": "markdown",
   "metadata": {
    "id": "x7F-mxeubDUG"
   },
   "source": [
    "# Python_Lab_2.1\n"
   ]
  },
  {
   "cell_type": "markdown",
   "metadata": {
    "id": "14c6Hn1BbDUH"
   },
   "source": [
    "### Task 1\n",
    "1. Write a function named is_prime that takes a number as a parameter and returns True if the number is prime and False otherwise. Print whether the number 29 is prime."
   ]
  },
  {
   "cell_type": "code",
   "execution_count": 47,
   "metadata": {
    "id": "5e_MZEN0bDUI"
   },
   "outputs": [
    {
     "data": {
      "text/plain": [
       "True"
      ]
     },
     "execution_count": 47,
     "metadata": {},
     "output_type": "execute_result"
    }
   ],
   "source": [
    "# write your code here ^_^\n",
    "def is_prime (num):\n",
    "        if num <= 1:\n",
    "            return False\n",
    "        for i in range(2, int(num**0.5)+1):\n",
    "            if num %i == 0:\n",
    "                 return False\n",
    "        return True \n",
    "is_prime(13)\n",
    "    "
   ]
  },
  {
   "cell_type": "markdown",
   "metadata": {
    "id": "2zKG8ZcybDUI"
   },
   "source": [
    "### Task 2\n",
    "1. Create a list of 10 numbers and sort them in descending order using the sort() function.\n",
    "2. Use the len() function to print the length of the sorted list.\n",
    "3. Use the zip() function to combine three lists (names, ages, and cities) into a list of tuples.\n",
    "4. Use the range() function to create a list of even numbers from 2 to 20 and print the list."
   ]
  },
  {
   "cell_type": "code",
   "execution_count": 69,
   "metadata": {
    "id": "yyoe__M_bDUI"
   },
   "outputs": [
    {
     "name": "stdout",
     "output_type": "stream",
     "text": [
      "sorted list: [45, 43, 13, 10, 9, 8, 7, 4, 4, 3, 2]\n",
      "length of the list:  11\n",
      "list after zipping :  [('kawthar', 16, 'saudi_arabia'), ('fatima', 35, 'Qater'), ('bayan', 37, 'Oman')]\n",
      "even list:  [2, 4, 6, 8, 10, 12, 14, 16, 18]\n"
     ]
    }
   ],
   "source": [
    "# write your code here ^_^\n",
    "#task_1\n",
    "lst = [13,45,7,3,43,4,8,9,4,2,10]\n",
    "lst.sort(reverse = True)\n",
    "print('sorted list:',lst)\n",
    "\n",
    "#task_2\n",
    "print('length of the list: ', len(lst))\n",
    "\n",
    "#task_3\n",
    "names = ['kawthar','fatima','bayan']\n",
    "ages = [16,35,37]\n",
    "cities = ['saudi_arabia','Qater','Oman']\n",
    "\n",
    "final_lst =list(tuple(zip(names,ages,cities)))\n",
    "print('list after zipping : ',final_lst)\n",
    "\n",
    "#task4\n",
    "lst2 = [x for x in range(2,20) if x %2 ==0]\n",
    "print('even list: ', lst2)"
   ]
  },
  {
   "cell_type": "markdown",
   "metadata": {
    "id": "aStW5p7AbDUI"
   },
   "source": [
    "3### Task 3\n",
    "Build a phone book program that receives the phone number, and returns the name of the owner.\n",
    "You can follow the table below:\n",
    "\n",
    "| Name     | Number     |\n",
    "| -------- | ---------- |\n",
    "| Amal     | 1111111111 |\n",
    "| Mohammed | 2222222222 |\n",
    "| Khadijah | 3333333333 |\n",
    "| Abdullah | 4444444444 |\n",
    "| Rawan    | 5555555555 |\n",
    "| Faisal   | 6666666666 |\n",
    "| Layla    | 7777777777 |\n",
    "\n",
    "- If the number exists, print the owner. Otherwise, print \"Sorry, the number is not found\".\n",
    "- If the number is less or more than 10 numbers, print \"This is invalid number\".\n",
    "- If the number contains letters or symbols, print \"This is invalid number\".\n"
   ]
  },
  {
   "cell_type": "code",
   "execution_count": 127,
   "metadata": {
    "id": "kvXmjUe-bDUJ"
   },
   "outputs": [
    {
     "name": "stdin",
     "output_type": "stream",
     "text": [
      "Enter phone number: 2222222222222222222222222\n"
     ]
    },
    {
     "name": "stdout",
     "output_type": "stream",
     "text": [
      "This is invalid number\n"
     ]
    }
   ],
   "source": [
    "# write your code here ^_^\n",
    "phone_book = {'Amal':1111111111,\n",
    " 'Mohammed':2222222222, \n",
    " 'Khadijah':3333333333, \n",
    " 'Abdullah':4444444444,\n",
    " 'Rawan':5555555555, \n",
    " 'Faisal':6666666666 , \n",
    " 'Layla':7777777777}\n",
    "\n",
    "def dict_search(phone_number):\n",
    "    for name, number in phone_book.items():\n",
    "         if  phone_number == number:\n",
    "                 return(name)\n",
    "    return('Sorry, the number is not found')\n",
    "\n",
    "\n",
    "phone_number = input('Enter phone number:')\n",
    "if len(phone_number) == 10 and phone_number.isdigit(): \n",
    "    print(dict_search(int(phone_number)))\n",
    "else:\n",
    "    print(\"This is invalid number\")"
   ]
  },
  {
   "cell_type": "markdown",
   "metadata": {
    "id": "exLHQ28nbDUJ"
   },
   "source": [
    "### Task 4\n",
    "- Given the following list : [5, 4, 17, 19, 30, 2, 7, 10, 45]\n",
    "    1. Use a lambda function to filter out only the odd numbers.\n",
    "    2. Print the new list of odd numbers."
   ]
  },
  {
   "cell_type": "code",
   "execution_count": 133,
   "metadata": {
    "id": "64SUsh1cbDUJ"
   },
   "outputs": [
    {
     "name": "stdout",
     "output_type": "stream",
     "text": [
      "[5, 17, 19, 7, 45]\n"
     ]
    }
   ],
   "source": [
    "# write your code here ^_^\n",
    "lst = [5, 4, 17, 19, 30, 2, 7, 10, 45]\n",
    "lst = list(filter(lambda x: x % 2 !=0,lst))\n",
    "print(lst)"
   ]
  },
  {
   "cell_type": "code",
   "execution_count": null,
   "metadata": {},
   "outputs": [],
   "source": []
  }
 ],
 "metadata": {
  "colab": {
   "provenance": []
  },
  "kernelspec": {
   "display_name": "Python [conda env:base] *",
   "language": "python",
   "name": "conda-base-py"
  },
  "language_info": {
   "codemirror_mode": {
    "name": "ipython",
    "version": 3
   },
   "file_extension": ".py",
   "mimetype": "text/x-python",
   "name": "python",
   "nbconvert_exporter": "python",
   "pygments_lexer": "ipython3",
   "version": "3.12.7"
  }
 },
 "nbformat": 4,
 "nbformat_minor": 4
}
