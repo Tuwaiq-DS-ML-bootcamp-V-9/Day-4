{
 "cells": [
  {
   "cell_type": "markdown",
   "metadata": {
    "id": "E9Y5ss1ZYj3r"
   },
   "source": [
    "# Python_Lab_2.2\n"
   ]
  },
  {
   "cell_type": "markdown",
   "metadata": {
    "id": "Q1kAqc72Yj3t"
   },
   "source": [
    "### Task 1\n",
    "1. Write a program that prompts the user to enter two numbers and prints their division. Handle cases where the user enters non-numeric values or attempts to divide by zero using a try-except block.\n"
   ]
  },
  {
   "cell_type": "code",
   "execution_count": 21,
   "metadata": {
    "id": "H-xyoRTVYj3t"
   },
   "outputs": [
    {
     "name": "stdin",
     "output_type": "stream",
     "text": [
      "Enter first number for division:  24\n",
      "Enter second number for division:  567\n"
     ]
    },
    {
     "name": "stdout",
     "output_type": "stream",
     "text": [
      "24/567 = 0.042328042328042326\n"
     ]
    }
   ],
   "source": [
    "# write your code here ^_^\n",
    "try:\n",
    "    num1 = int(input(\"Enter first number for division: \"))\n",
    "    num2 = int(input(\"Enter second number for division: \"))\n",
    "    result = num1/num2\n",
    "    print(f\"{num1}/{num2} =\",result)\n",
    "except ValueError:\n",
    "    print('you should enter numeric value')\n",
    "except ZeroDivisionError:\n",
    "    print('Yow should not divide by zero')"
   ]
  },
  {
   "cell_type": "markdown",
   "metadata": {
    "id": "CPWcDSC_Yj3u"
   },
   "source": [
    "### Task 2\n",
    "- Use \"Random\" library to do the following:\n",
    "    1. Create a list of random numbers using list comprehension.\n",
    "    2. Create a list of squares of the even numbers from random numbers using list comprehension.\n",
    "    3. Create a list of tuples (number, square) for random numbers using list comprehension."
   ]
  },
  {
   "cell_type": "code",
   "execution_count": 45,
   "metadata": {
    "id": "Yfq-i6CeYj3u"
   },
   "outputs": [
    {
     "name": "stdout",
     "output_type": "stream",
     "text": [
      "[10, 17, 10, 5, 16, 6, 7, 18, 10, 13]\n",
      "[100, 100, 256, 36, 324, 100]\n",
      "[(10, 100), (17, 100), (10, 256), (5, 36), (16, 324), (6, 100)]\n"
     ]
    }
   ],
   "source": [
    "# write your code here ^_^\n",
    "import random\n",
    "lst = [random.randint(1,18) for x in range(10)]\n",
    "print(lst)\n",
    "lst2 = [x**2 for x in lst if x % 2 == 0]\n",
    "print(lst2)\n",
    "lst3 = [(x,y) for (x,y) in zip(lst,lst2)]\n",
    "print(lst3)"
   ]
  },
  {
   "cell_type": "markdown",
   "metadata": {
    "id": "jYdOq46NYj3u"
   },
   "source": [
    "### Task 3\n",
    "- Create a dictionary where the keys are numbers from 1 to 5 and the values are list of their squares and cubes.\n",
    "\n",
    "  - **hint**: use dictionary of list comprehension.\n",
    "\n",
    "- Create a dictionary from two lists (one with keys and one with values) using dictionary comprehension.\n",
    "\n"
   ]
  },
  {
   "cell_type": "code",
   "execution_count": 63,
   "metadata": {
    "id": "IEnsiNmCYj3u"
   },
   "outputs": [
    {
     "name": "stdout",
     "output_type": "stream",
     "text": [
      "{1: [1, 1], 2: [4, 8], 3: [9, 27], 4: [16, 64]}\n",
      "key list [5, 17, 9, 13, 5, 17, 11, 7, 15]\n",
      "value list [19, 16, 18, 12, 19, 15, 7, 14, 5]\n",
      "dictionary of lists {5: 19, 17: 15, 9: 18, 13: 12, 11: 7, 7: 14, 15: 5}\n"
     ]
    }
   ],
   "source": [
    "# write your code here ^_^\n",
    "dic1 = {key:[key**2,key**3]for key in range(1,5)}\n",
    "print (dic)\n",
    "keys= [random.randint(1,19) for x in range(1,10)]\n",
    "values= [random.randint(1,19) for x in range(1,10)]\n",
    "print('key list', keys)\n",
    "print('value list', values)\n",
    "dic2 = {k:v for k,v in zip(keys,values)}\n",
    "print('dictionary of lists',dic2)"
   ]
  },
  {
   "cell_type": "markdown",
   "metadata": {
    "id": "6T9TCQ8SYj3v"
   },
   "source": [
    "### Task 4\n",
    "- Given a dictionary where keys are student names and values are lists of their scores, write a function that updates the scores of students who have achieved a perfect score (100) by adding a bonus of 5 points to each score. Use dictionary comprehension to achieve this.\n",
    "\n",
    "    - Implement the function add_bonus_to_perfect_scores(student_scores) that adds a bonus of 5 points to each score of students who have achieved a perfect score (100)."
   ]
  },
  {
   "cell_type": "code",
   "execution_count": 90,
   "metadata": {
    "id": "T3R_VsQpYj3v"
   },
   "outputs": [
    {
     "name": "stdout",
     "output_type": "stream",
     "text": [
      "{'ahmed': [77, 88, 99, 105], 'kawthar': [56, 89, 54, 76], 'omar': [80, 90, 65, 105]}\n"
     ]
    }
   ],
   "source": [
    "# write your code here ^_^\n",
    "student_score = {\n",
    "    'ahmed':[77,88,99,100],\n",
    "    'kawthar':[56,89,54,76],\n",
    "    'omar':[80,90,65,100]\n",
    "}\n",
    "\n",
    "def add_bonus_to_perfect_scores (dic):\n",
    "     return {\n",
    "        names:[i+5 if i ==100 else i for i in score ]\n",
    "         for names,score in dic.items() }\n",
    "    \n",
    "print(add_bonus_to_perfect_scores(student_score)) \n"
   ]
  },
  {
   "cell_type": "markdown",
   "metadata": {
    "id": "rJkOEFAwYj3v"
   },
   "source": []
  }
 ],
 "metadata": {
  "colab": {
   "provenance": []
  },
  "kernelspec": {
   "display_name": "Python [conda env:base] *",
   "language": "python",
   "name": "conda-base-py"
  },
  "language_info": {
   "codemirror_mode": {
    "name": "ipython",
    "version": 3
   },
   "file_extension": ".py",
   "mimetype": "text/x-python",
   "name": "python",
   "nbconvert_exporter": "python",
   "pygments_lexer": "ipython3",
   "version": "3.12.7"
  }
 },
 "nbformat": 4,
 "nbformat_minor": 4
}
