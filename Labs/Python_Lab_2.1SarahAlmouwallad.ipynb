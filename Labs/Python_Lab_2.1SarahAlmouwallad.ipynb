{
 "cells": [
  {
   "cell_type": "markdown",
   "metadata": {
    "id": "x7F-mxeubDUG"
   },
   "source": [
    "# Python_Lab_2.1\n"
   ]
  },
  {
   "cell_type": "markdown",
   "metadata": {
    "id": "14c6Hn1BbDUH"
   },
   "source": [
    "### Task 1\n",
    "1. Write a function named is_prime that takes a number as a parameter and returns True if the number is prime and False otherwise. Print whether the number 29 is prime."
   ]
  },
  {
   "cell_type": "code",
   "execution_count": 55,
   "metadata": {
    "id": "5e_MZEN0bDUI"
   },
   "outputs": [
    {
     "name": "stdout",
     "output_type": "stream",
     "text": [
      "True 29 is prime\n"
     ]
    }
   ],
   "source": [
    "# write your code here ^_^\n",
    "def is_prime (x):\n",
    "     if x <2:\n",
    "          return False\n",
    "     for i in range(2,x):\n",
    "          if x % i == 0:\n",
    "               return False\n",
    "     return True\n",
    "     \n",
    "    \n",
    "\n",
    "y=is_prime(29)\n",
    "print(y,\"29 is prime\")"
   ]
  },
  {
   "cell_type": "markdown",
   "metadata": {
    "id": "2zKG8ZcybDUI"
   },
   "source": [
    "### Task 2\n",
    "1. Create a list of 10 numbers and sort them in descending order using the sort() function.\n",
    "2. Use the len() function to print the length of the sorted list.\n",
    "3. Use the zip() function to combine three lists (names, ages, and cities) into a list of tuples.\n",
    "4. Use the range() function to create a list of even numbers from 2 to 20 and print the list."
   ]
  },
  {
   "cell_type": "code",
   "execution_count": 56,
   "metadata": {
    "id": "yyoe__M_bDUI"
   },
   "outputs": [
    {
     "name": "stdout",
     "output_type": "stream",
     "text": [
      "[10, 9, 8, 7, 6, 5, 4, 3, 2, 1]\n",
      "10\n",
      "[('ahmed', 30, 'madinah'), ('sarah', 20, 'riyad'), ('faitma', 10, 'khobar'), ('huda', 50, 'madinah'), ('mona', 40, 'riyad')]\n",
      "[2, 4, 6, 8, 10, 12, 14, 16, 18, 20]\n"
     ]
    }
   ],
   "source": [
    "# write your code here ^_^\n",
    "numbers = [1, 2, 3 ,4 ,5 ,6 ,7 ,8 ,9 ,10]\n",
    "numbers.sort(reverse=True)\n",
    "print(numbers)\n",
    "\n",
    "\n",
    "print(len(numbers))\n",
    "\n",
    "names = [\"ahmed\", \"sarah\", \"faitma\",\"huda\", \"mona\"]\n",
    "ages = [30, 20, 10, 50 ,40]\n",
    "cities = [\"madinah\", \"riyad\", \"khobar\",\"madinah\", \"riyad\",]\n",
    "combine_three_lists =list(zip(names,ages,cities))\n",
    "print(combine_three_lists)\n",
    "\n",
    "even_numbers= list(range(2,21,2))\n",
    "print(even_numbers)"
   ]
  },
  {
   "cell_type": "markdown",
   "metadata": {
    "id": "aStW5p7AbDUI"
   },
   "source": [
    "### Task 3\n",
    "Build a phone book program that receives the phone number, and returns the name of the owner.\n",
    "You can follow the table below:\n",
    "\n",
    "| Name     | Number     |\n",
    "| -------- | ---------- |\n",
    "| Amal     | 1111111111 |\n",
    "| Mohammed | 2222222222 |\n",
    "| Khadijah | 3333333333 |\n",
    "| Abdullah | 4444444444 |\n",
    "| Rawan    | 5555555555 |\n",
    "| Faisal   | 6666666666 |\n",
    "| Layla    | 7777777777 |\n",
    "\n",
    "- If the number exists, print the owner. Otherwise, print \"Sorry, the number is not found\".\n",
    "- If the number is less or more than 10 numbers, print \"This is invalid number\".\n",
    "- If the number contains letters or symbols, print \"This is invalid number\".\n"
   ]
  },
  {
   "cell_type": "code",
   "execution_count": 57,
   "metadata": {
    "id": "kvXmjUe-bDUJ"
   },
   "outputs": [
    {
     "name": "stdout",
     "output_type": "stream",
     "text": [
      "Sorry, the number is not found\n"
     ]
    }
   ],
   "source": [
    "# write your code here ^_^\n",
    "def phone_num(num):\n",
    "    dict = {\n",
    "        '1111111111': 'Amal',\n",
    "        '2222222222': 'Mohammed',\n",
    "        '3333333333': 'Khadijah',\n",
    "        '4444444444': 'Abdullah',\n",
    "        '5555555555': 'Rawan',\n",
    "        '6666666666': 'Faisal',\n",
    "        '7777777777': 'Layla'\n",
    "    }\n",
    "    if num in dict:\n",
    "        return dict[num]\n",
    "    else:\n",
    "        return \"Sorry, the number is not found\"\n",
    "\n",
    "y=input(\"enter the phone number\")\n",
    "print(phone_num(y))"
   ]
  },
  {
   "cell_type": "markdown",
   "metadata": {
    "id": "exLHQ28nbDUJ"
   },
   "source": [
    "### Task 4\n",
    "- Given the following list : [5, 4, 17, 19, 30, 2, 7, 10, 45]\n",
    "    1. Use a lambda function to filter out only the odd numbers.\n",
    "    2. Print the new list of odd numbers."
   ]
  },
  {
   "cell_type": "code",
   "execution_count": 58,
   "metadata": {
    "id": "64SUsh1cbDUJ"
   },
   "outputs": [
    {
     "name": "stdout",
     "output_type": "stream",
     "text": [
      "[5, 17, 19, 7, 45]\n"
     ]
    }
   ],
   "source": [
    "# write your code here ^_^\n",
    "y=list(filter(lambda x : x%2 !=0,[5, 4, 17, 19, 30, 2, 7, 10, 45]))\n",
    "print(y)"
   ]
  }
 ],
 "metadata": {
  "colab": {
   "provenance": []
  },
  "kernelspec": {
   "display_name": "Python 3",
   "language": "python",
   "name": "python3"
  },
  "language_info": {
   "codemirror_mode": {
    "name": "ipython",
    "version": 3
   },
   "file_extension": ".py",
   "mimetype": "text/x-python",
   "name": "python",
   "nbconvert_exporter": "python",
   "pygments_lexer": "ipython3",
   "version": "3.9.6"
  }
 },
 "nbformat": 4,
 "nbformat_minor": 0
}
