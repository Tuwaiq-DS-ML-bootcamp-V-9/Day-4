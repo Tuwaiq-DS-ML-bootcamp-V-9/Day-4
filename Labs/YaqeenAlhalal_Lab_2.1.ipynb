{
 "cells": [
  {
   "cell_type": "markdown",
   "metadata": {
    "id": "x7F-mxeubDUG"
   },
   "source": [
    "# Python_Lab_2.1\n"
   ]
  },
  {
   "cell_type": "markdown",
   "metadata": {
    "id": "14c6Hn1BbDUH"
   },
   "source": [
    "### Task 1\n",
    "1. Write a function named is_prime that takes a number as a parameter and returns True if the number is prime and False otherwise. Print whether the number 29 is prime."
   ]
  },
  {
   "cell_type": "code",
   "execution_count": 54,
   "metadata": {
    "id": "5e_MZEN0bDUI"
   },
   "outputs": [
    {
     "data": {
      "text/plain": [
       "True"
      ]
     },
     "execution_count": 54,
     "metadata": {},
     "output_type": "execute_result"
    }
   ],
   "source": [
    "# write your code here ^_^\n",
    "def _prime(number):\n",
    "    count = 0\n",
    "    if number <= 1: #1, 0, and negative numbers are not prime numbers\n",
    "        return False\n",
    "    else: \n",
    "        for i in range(2, int(number ** 0.5) + 1):  # Check up to the square root of the number\n",
    "            if number % i == 0:\n",
    "                return False  # if divisible by any number, it's not prime\n",
    "            else:\n",
    "                return True\n",
    "            \n",
    "                \n",
    "            \n",
    "_prime(29)       "
   ]
  },
  {
   "cell_type": "markdown",
   "metadata": {
    "id": "2zKG8ZcybDUI"
   },
   "source": [
    "### Task 2\n",
    "1. Create a list of 10 numbers and sort them in descending order using the sort() function.\n",
    "2. Use the len() function to print the length of the sorted list.\n",
    "3. Use the zip() function to combine three lists (names, ages, and cities) into a list of tuples.\n",
    "4. Use the range() function to create a list of even numbers from 2 to 20 and print the list."
   ]
  },
  {
   "cell_type": "code",
   "execution_count": 28,
   "metadata": {
    "id": "yyoe__M_bDUI"
   },
   "outputs": [
    {
     "name": "stdout",
     "output_type": "stream",
     "text": [
      "sorted function: [10, 9, 8, 7, 6, 5, 4, 3, 2, 1]\n",
      "sorted list length 10\n"
     ]
    }
   ],
   "source": [
    "# write your code here ^_^\n",
    "mylist = [1, 2, 3, 4, 5, 6, 7, 8, 9, 10]\n",
    "mylist.sort(reverse=True)\n",
    "print('sorted function:', mylist)\n",
    "print('sorted list length', len(mylist))"
   ]
  },
  {
   "cell_type": "code",
   "execution_count": 30,
   "metadata": {},
   "outputs": [
    {
     "name": "stdout",
     "output_type": "stream",
     "text": [
      "('Franky', 36, 'USA')\n",
      "('Brook', 90, 'Austria')\n",
      "('Luffy', 19, 'Brazil')\n"
     ]
    }
   ],
   "source": [
    "names = ['Franky', 'Brook', 'Luffy']\n",
    "ages = [36, 90, 19]\n",
    "country = ['USA', 'Austria', 'Brazil']\n",
    "\n",
    "people = zip(names, ages, country)\n",
    "for i in people:\n",
    "    print(i)"
   ]
  },
  {
   "cell_type": "code",
   "execution_count": 32,
   "metadata": {},
   "outputs": [
    {
     "name": "stdout",
     "output_type": "stream",
     "text": [
      "[2, 4, 6, 8, 10, 12, 14, 16, 18]\n"
     ]
    }
   ],
   "source": [
    "new_list = []\n",
    "for even in range(2, 20):\n",
    "    if even % 2 == 0:\n",
    "        new_list.append(even)\n",
    "\n",
    "print(new_list)"
   ]
  },
  {
   "cell_type": "markdown",
   "metadata": {
    "id": "aStW5p7AbDUI"
   },
   "source": [
    "### Task 3\n",
    "Build a phone book program that receives the phone number, and returns the name of the owner.\n",
    "You can follow the table below:\n",
    "\n",
    "| Name     | Number     |\n",
    "| -------- | ---------- |\n",
    "| Amal     | 1111111111 |\n",
    "| Mohammed | 2222222222 |\n",
    "| Khadijah | 3333333333 |\n",
    "| Abdullah | 4444444444 |\n",
    "| Rawan    | 5555555555 |\n",
    "| Faisal   | 6666666666 |\n",
    "| Layla    | 7777777777 |\n",
    "\n",
    "- If the number exists, print the owner. Otherwise, print \"Sorry, the number is not found\".\n",
    "- If the number is less or more than 10 numbers, print \"This is invalid number\".\n",
    "- If the number contains letters or symbols, print \"This is invalid number\".\n"
   ]
  },
  {
   "cell_type": "code",
   "execution_count": 53,
   "metadata": {
    "id": "kvXmjUe-bDUJ"
   },
   "outputs": [
    {
     "name": "stdout",
     "output_type": "stream",
     "text": [
      "The owner of this person is Layla\n",
      "This is invalid number\n",
      "This is invalid number\n",
      "This is invalid number\n"
     ]
    }
   ],
   "source": [
    "# write your code here ^_^\n",
    "import re\n",
    "\n",
    "phonebook_details = {\n",
    "    '1111111111': 'Amal',\n",
    "    '2222222222': 'Mohammed',\n",
    "    '3333333333': 'Khadija',\n",
    "    '4444444444': 'Abdullah',\n",
    "    '5555555555': 'Rawan',\n",
    "    '6666666666': 'Faisal',\n",
    "    '7777777777': 'Layla'\n",
    "}\n",
    "\n",
    "def phonebook(number):\n",
    "    if not re.match(r\"^\\d{10}$\", number):\n",
    "        print('This is invalid number')\n",
    "    else:\n",
    "        if number in phonebook_details:\n",
    "            print('The owner of this person is', phonebook_details[number])\n",
    "        else:\n",
    "            print('Sorry, the number is not found')\n",
    "            \n",
    "phonebook('7777777777')\n",
    "phonebook('232')\n",
    "phonebook('111111111111111')\n",
    "phonebook('1111111111&')"
   ]
  },
  {
   "cell_type": "markdown",
   "metadata": {
    "id": "exLHQ28nbDUJ"
   },
   "source": [
    "### Task 4\n",
    "- Given the following list : [5, 4, 17, 19, 30, 2, 7, 10, 45]\n",
    "    1. Use a lambda function to filter out only the odd numbers.\n",
    "    2. Print the new list of odd numbers."
   ]
  },
  {
   "cell_type": "code",
   "execution_count": 36,
   "metadata": {
    "id": "64SUsh1cbDUJ"
   },
   "outputs": [
    {
     "name": "stdout",
     "output_type": "stream",
     "text": [
      "[5, 17, 19, 7, 45]\n"
     ]
    }
   ],
   "source": [
    "# write your code here ^_^\n",
    "odd = lambda x : x%2 != 0 \n",
    "nums = [5, 4, 17, 19, 30, 2, 7, 10, 45]\n",
    "\n",
    "odd_number = list(filter(odd, nums))\n",
    "print(odd_number)"
   ]
  }
 ],
 "metadata": {
  "colab": {
   "provenance": []
  },
  "kernelspec": {
   "display_name": "Python 3 (ipykernel)",
   "language": "python",
   "name": "python3"
  },
  "language_info": {
   "codemirror_mode": {
    "name": "ipython",
    "version": 3
   },
   "file_extension": ".py",
   "mimetype": "text/x-python",
   "name": "python",
   "nbconvert_exporter": "python",
   "pygments_lexer": "ipython3",
   "version": "3.11.4"
  }
 },
 "nbformat": 4,
 "nbformat_minor": 1
}
