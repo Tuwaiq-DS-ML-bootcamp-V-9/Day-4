{
 "cells": [
  {
   "cell_type": "markdown",
   "metadata": {
    "id": "x7F-mxeubDUG"
   },
   "source": [
    "# Python_Lab_2.1\n"
   ]
  },
  {
   "cell_type": "markdown",
   "metadata": {
    "id": "14c6Hn1BbDUH"
   },
   "source": [
    "### Task 1\n",
    "1. Write a function named is_prime that takes a number as a parameter and returns True if the number is prime and False otherwise. Print whether the number 29 is prime."
   ]
  },
  {
   "cell_type": "code",
   "execution_count": 4,
   "metadata": {
    "id": "5e_MZEN0bDUI"
   },
   "outputs": [
    {
     "name": "stdout",
     "output_type": "stream",
     "text": [
      "It is a prime number.\n"
     ]
    }
   ],
   "source": [
    "def is_prime(n):\n",
    "    \n",
    "    if n < 2:\n",
    "        return False\n",
    "    for i in range(2, int(n ** 0.5) + 1):\n",
    "        if n % i == 0:\n",
    "            return False\n",
    "    return True\n",
    "\n",
    "number = 2\n",
    "if is_prime(number):\n",
    "    print(\"It is a prime number.\")\n",
    "else:\n",
    "    print(\"It is not a prime number.\")"
   ]
  },
  {
   "cell_type": "markdown",
   "metadata": {
    "id": "2zKG8ZcybDUI"
   },
   "source": [
    "### Task 2\n",
    "1. Create a list of 10 numbers and sort them in descending order using the sort() function.\n",
    "2. Use the len() function to print the length of the sorted list.\n",
    "3. Use the zip() function to combine three lists (names, ages, and cities) into a list of tuples.\n",
    "4. Use the range() function to create a list of even numbers from 2 to 20 and print the list."
   ]
  },
  {
   "cell_type": "code",
   "execution_count": 3,
   "metadata": {
    "id": "yyoe__M_bDUI"
   },
   "outputs": [
    {
     "name": "stdout",
     "output_type": "stream",
     "text": [
      "Sorted numbers in descending order: [77, 53, 34, 24, 18, 12, 9, 8, 3, 1]\n",
      "Length of the list: 10\n",
      "Combined list: [('Renad', 22, 'Abha'), ('Yara', 24, 'Taif'), ('Rahaf', 23, 'Riyadh')]\n",
      "Even numbers from 2 to 20: [2, 4, 6, 8, 10, 12, 14, 16, 18, 20]\n"
     ]
    }
   ],
   "source": [
    "numbers = [34, 24, 9, 3, 77, 18, 8, 53, 12, 1]\n",
    "numbers.sort(reverse=True)\n",
    "print(\"Sorted numbers in descending order:\", numbers)\n",
    "\n",
    "print(\"Length of the list:\", len(numbers))\n",
    "\n",
    "names = [\"Renad\", \"Yara\", \"Rahaf\"]\n",
    "ages = [22, 24, 23]\n",
    "cities = [\"Abha\", \"Taif\", \"Riyadh\"]\n",
    "\n",
    "combinedList = list(zip(names, ages, cities))\n",
    "print(\"Combined list:\", combinedList)\n",
    "\n",
    "evenNumbers = list(range(2, 21, 2))\n",
    "print(\"Even numbers from 2 to 20:\", evenNumbers)"
   ]
  },
  {
   "cell_type": "markdown",
   "metadata": {
    "id": "aStW5p7AbDUI"
   },
   "source": [
    "### Task 3\n",
    "Build a phone book program that receives the phone number, and returns the name of the owner.\n",
    "You can follow the table below:\n",
    "\n",
    "| Name     | Number     |\n",
    "| -------- | ---------- |\n",
    "| Amal     | 1111111111 |\n",
    "| Mohammed | 2222222222 |\n",
    "| Khadijah | 3333333333 |\n",
    "| Abdullah | 4444444444 |\n",
    "| Rawan    | 5555555555 |\n",
    "| Faisal   | 6666666666 |\n",
    "| Layla    | 7777777777 |\n",
    "\n",
    "- If the number exists, print the owner. Otherwise, print \"Sorry, the number is not found\".\n",
    "- If the number is less or more than 10 numbers, print \"This is invalid number\".\n",
    "- If the number contains letters or symbols, print \"This is invalid number\".\n"
   ]
  },
  {
   "cell_type": "code",
   "execution_count": 6,
   "metadata": {
    "id": "kvXmjUe-bDUJ"
   },
   "outputs": [
    {
     "name": "stdout",
     "output_type": "stream",
     "text": [
      "It is a prime number.\n",
      "Sorted numbers in descending order: [77, 53, 34, 24, 18, 12, 9, 8, 3, 1]\n",
      "Length of the list: 10\n",
      "Combined list: [('Renad', 22, 'Abha'), ('Yara', 24, 'Taif'), ('Rahaf', 23, 'Riyadh')]\n",
      "Even numbers from 2 to 20: [2, 4, 6, 8, 10, 12, 14, 16, 18, 20]\n"
     ]
    },
    {
     "name": "stdin",
     "output_type": "stream",
     "text": [
      "Enter a phone number:  1111111111\n"
     ]
    },
    {
     "name": "stdout",
     "output_type": "stream",
     "text": [
      "The owner of the number is Amal.\n"
     ]
    }
   ],
   "source": [
    "def is_prime(n):\n",
    "    \n",
    "    if n < 2:\n",
    "        return False\n",
    "    for i in range(2, int(n ** 0.5) + 1):\n",
    "        if n % i == 0:\n",
    "            return False\n",
    "    return True\n",
    "\n",
    "number = 29\n",
    "if is_prime(number):\n",
    "    print(\"It is a prime number.\")\n",
    "else:\n",
    "    print(\"It is not a prime number.\")\n",
    "\n",
    "\n",
    "1.2\n",
    "\n",
    "\n",
    "numbers = [34, 24, 9, 3, 77, 18, 8, 53, 12, 1]\n",
    "numbers.sort(reverse=True)\n",
    "print(\"Sorted numbers in descending order:\", numbers)\n",
    "\n",
    "print(\"Length of the list:\", len(numbers))\n",
    "\n",
    "names = [\"Renad\", \"Yara\", \"Rahaf\"]\n",
    "ages = [22, 24, 23]\n",
    "cities = [\"Abha\", \"Taif\", \"Riyadh\"]\n",
    "\n",
    "combinedList = list(zip(names, ages, cities))\n",
    "print(\"Combined list:\", combinedList)\n",
    "\n",
    "evenNumbers = list(range(2, 21, 2))\n",
    "print(\"Even numbers from 2 to 20:\", evenNumbers)\n",
    "\n",
    "\n",
    "\n",
    "\n",
    "\n",
    "1.3\n",
    "\n",
    "\n",
    "phoneBook={\n",
    "    \"Amal\": \"1111111111\",\n",
    "    \"Mohammed\": \"2222222222\",\n",
    "    \"Khadijah\": \"3333333333\",\n",
    "    \"Abdullah\": \"4444444444\",\n",
    "    \"Rawan\": \"5555555555\",\n",
    "    \"Faisal\": \"6666666666\",\n",
    "    \"Layla\": \"7777777777\"\n",
    "}\n",
    "\n",
    "\n",
    "\n",
    "def checkOwner(phNum):\n",
    "    if not phNum.isdigit() or len(phNum) != 10:\n",
    "        return \"This is invalid number.\"\n",
    "    \n",
    "    for name, number in phoneBook.items():\n",
    "        if number == phNum:\n",
    "            return f\"The owner of the number is {name}.\"\n",
    "    \n",
    "    return \"Sorry, the number is not found.\"\n",
    "\n",
    "phoneNum = input(\"Enter a phone number: \")\n",
    "print(checkOwner(phoneNum))"
   ]
  },
  {
   "cell_type": "markdown",
   "metadata": {
    "id": "exLHQ28nbDUJ"
   },
   "source": [
    "### Task 4\n",
    "- Given the following list : [5, 4, 17, 19, 30, 2, 7, 10, 45]\n",
    "    1. Use a lambda function to filter out only the odd numbers.\n",
    "    2. Print the new list of odd numbers."
   ]
  },
  {
   "cell_type": "code",
   "execution_count": 10,
   "metadata": {
    "id": "64SUsh1cbDUJ"
   },
   "outputs": [
    {
     "name": "stdout",
     "output_type": "stream",
     "text": [
      "Odd Numbers [5, 17, 19, 7, 45]\n"
     ]
    }
   ],
   "source": [
    "numbers = [5, 4, 17, 19, 30, 2, 7, 10, 45]\n",
    "oddNums = list(filter(lambda x: x % 2 != 0, numbers))\n",
    "\n",
    "print(\"Odd Numbers\" , oddNums)"
   ]
  },
  {
   "cell_type": "code",
   "execution_count": null,
   "metadata": {},
   "outputs": [],
   "source": []
  }
 ],
 "metadata": {
  "colab": {
   "provenance": []
  },
  "kernelspec": {
   "display_name": "Python [conda env:base] *",
   "language": "python",
   "name": "conda-base-py"
  },
  "language_info": {
   "codemirror_mode": {
    "name": "ipython",
    "version": 3
   },
   "file_extension": ".py",
   "mimetype": "text/x-python",
   "name": "python",
   "nbconvert_exporter": "python",
   "pygments_lexer": "ipython3",
   "version": "3.12.7"
  }
 },
 "nbformat": 4,
 "nbformat_minor": 4
}
