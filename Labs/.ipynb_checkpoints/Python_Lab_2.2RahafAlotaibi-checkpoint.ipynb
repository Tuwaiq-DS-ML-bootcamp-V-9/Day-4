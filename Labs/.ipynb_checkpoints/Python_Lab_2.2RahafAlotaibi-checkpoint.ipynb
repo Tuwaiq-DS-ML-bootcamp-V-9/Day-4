{
 "cells": [
  {
   "cell_type": "markdown",
   "metadata": {
    "id": "E9Y5ss1ZYj3r"
   },
   "source": [
    "# Python_Lab_2.2\n"
   ]
  },
  {
   "cell_type": "markdown",
   "metadata": {
    "id": "Q1kAqc72Yj3t"
   },
   "source": [
    "### Task 1\n",
    "1. Write a program that prompts the user to enter two numbers and prints their division. Handle cases where the user enters non-numeric values or attempts to divide by zero using a try-except block.\n"
   ]
  },
  {
   "cell_type": "code",
   "execution_count": 1,
   "metadata": {
    "id": "H-xyoRTVYj3t"
   },
   "outputs": [
    {
     "name": "stdin",
     "output_type": "stream",
     "text": [
      "Enter the first number:  5\n",
      "Enter the second number:  0\n"
     ]
    },
    {
     "name": "stdout",
     "output_type": "stream",
     "text": [
      "Error: Division by zero is not allowed.\n"
     ]
    }
   ],
   "source": [
    "def divideNums():\n",
    "    try:\n",
    "        num1 = float(input(\"Enter the first number: \"))\n",
    "        num2 = float(input(\"Enter the second number: \"))\n",
    "        \n",
    "        result = num1 / num2\n",
    "        print(f\"Result: {result}\")\n",
    "\n",
    "    except ValueError:\n",
    "        print(\"Error: Please enter numeric values only.\")\n",
    "    except ZeroDivisionError:\n",
    "        print(\"Error: Division by zero is not allowed.\")\n",
    "\n",
    "divideNums()"
   ]
  },
  {
   "cell_type": "markdown",
   "metadata": {
    "id": "CPWcDSC_Yj3u"
   },
   "source": [
    "### Task 2\n",
    "- Use \"Random\" library to do the following:\n",
    "    1. Create a list of random numbers using list comprehension.\n",
    "    2. Create a list of squares of the even numbers from random numbers using list comprehension.\n",
    "    3. Create a list of tuples (number, square) for random numbers using list comprehension."
   ]
  },
  {
   "cell_type": "code",
   "execution_count": 5,
   "metadata": {
    "id": "Yfq-i6CeYj3u"
   },
   "outputs": [
    {
     "name": "stdout",
     "output_type": "stream",
     "text": [
      "Random numbers: [9, 29, 25, 43, 31, 43, 48, 33, 41, 42]\n",
      "Squares of even numbers: [2304, 1764]\n",
      "List of (number, square) tuples: [(9, 81), (29, 841), (25, 625), (43, 1849), (31, 961), (43, 1849), (48, 2304), (33, 1089), (41, 1681), (42, 1764)]\n"
     ]
    }
   ],
   "source": [
    "import random\n",
    "\n",
    "randomNums = [random.randint(1, 50) for _ in range(10)]\n",
    "print(\"Random numbers:\", randomNums)\n",
    "\n",
    "evenSquares = [num**2 for num in randomNums if num % 2 == 0]\n",
    "print(\"Squares of even numbers:\", evenSquares)\n",
    "\n",
    "squaresNum_tuple = [(num, num**2) for num in randomNums]\n",
    "print(\"List of (number, square) tuples:\", squaresNum_tuple)"
   ]
  },
  {
   "cell_type": "markdown",
   "metadata": {
    "id": "jYdOq46NYj3u"
   },
   "source": [
    "### Task 3\n",
    "- Create a dictionary where the keys are numbers from 1 to 5 and the values are list of their squares and cubes.\n",
    "\n",
    "  - **hint**: use dictionary of list comprehension.\n",
    "\n",
    "- Create a dictionary from two lists (one with keys and one with values) using dictionary comprehension.\n",
    "\n"
   ]
  },
  {
   "cell_type": "code",
   "execution_count": 9,
   "metadata": {
    "id": "IEnsiNmCYj3u"
   },
   "outputs": [
    {
     "name": "stdout",
     "output_type": "stream",
     "text": [
      "Dictionary of squares and cubes: {1: [1, 1], 2: [4, 8], 3: [9, 27], 4: [16, 64], 5: [25, 125]}\n",
      "Dictionary from two lists: {'name': 'Rahaf', 'age': 22, 'city': 'Riyadh'}\n"
     ]
    }
   ],
   "source": [
    "numbersDict = {num: [num**2, num**3] for num in range(1, 6)}\n",
    "print(\"Dictionary of squares and cubes:\", numbersDict)\n",
    "\n",
    "keys = [\"name\", \"age\", \"city\"]\n",
    "values = [\"Rahaf\", 22, \"Riyadh\"]\n",
    "\n",
    "listTodict = {keys[i]: values[i] for i in range(len(keys))}\n",
    "print(\"Dictionary from two lists:\", listTodict)"
   ]
  },
  {
   "cell_type": "markdown",
   "metadata": {
    "id": "6T9TCQ8SYj3v"
   },
   "source": [
    "### Task 4\n",
    "- Given a dictionary where keys are student names and values are lists of their scores, write a function that updates the scores of students who have achieved a perfect score (100) by adding a bonus of 5 points to each score. Use dictionary comprehension to achieve this.\n",
    "\n",
    "    - Implement the function add_bonus_to_perfect_scores(student_scores) that adds a bonus of 5 points to each score of students who have achieved a perfect score (100)."
   ]
  },
  {
   "cell_type": "code",
   "execution_count": 1,
   "metadata": {
    "id": "T3R_VsQpYj3v"
   },
   "outputs": [
    {
     "name": "stdout",
     "output_type": "stream",
     "text": [
      "Updated student scores: {'Renad': [105, 84, 93], 'Yara': [92, 105, 89], 'Layan': [75, 80, 96], 'Eillie': [105, 105, 105]}\n"
     ]
    }
   ],
   "source": [
    "def add_bonus_to_perfect_scores(studentScores):\n",
    "    return {student: [score + 5 if score == 100 else score for score in scores]\n",
    "            for student, scores in studentScores.items()}\n",
    "\n",
    "student_scores = {\n",
    "    \"Renad\": [100, 84, 93],\n",
    "    \"Yara\": [92, 100, 89],\n",
    "    \"Layan\": [75, 80, 96],\n",
    "    \"Eillie\": [100, 100, 100]\n",
    "}\n",
    "\n",
    "updatedScores = add_bonus_to_perfect_scores(student_scores)\n",
    "print(\"Updated student scores:\", updatedScores)"
   ]
  },
  {
   "cell_type": "markdown",
   "metadata": {
    "id": "rJkOEFAwYj3v"
   },
   "source": []
  }
 ],
 "metadata": {
  "colab": {
   "provenance": []
  },
  "kernelspec": {
   "display_name": "Python [conda env:base] *",
   "language": "python",
   "name": "conda-base-py"
  },
  "language_info": {
   "codemirror_mode": {
    "name": "ipython",
    "version": 3
   },
   "file_extension": ".py",
   "mimetype": "text/x-python",
   "name": "python",
   "nbconvert_exporter": "python",
   "pygments_lexer": "ipython3",
   "version": "3.12.7"
  }
 },
 "nbformat": 4,
 "nbformat_minor": 4
}
