{
 "cells": [
  {
   "cell_type": "markdown",
   "metadata": {
    "id": "E9Y5ss1ZYj3r"
   },
   "source": [
    "# Python_Lab_2.2\n"
   ]
  },
  {
   "cell_type": "markdown",
   "metadata": {
    "id": "Q1kAqc72Yj3t"
   },
   "source": [
    "### Task 1\n",
    "1. Write a program that prompts the user to enter two numbers and prints their division. Handle cases where the user enters non-numeric values or attempts to divide by zero using a try-except block.\n"
   ]
  },
  {
   "cell_type": "code",
   "execution_count": 17,
   "metadata": {
    "id": "H-xyoRTVYj3t"
   },
   "outputs": [
    {
     "name": "stdin",
     "output_type": "stream",
     "text": [
      "Enter number 1 5\n",
      "Enter number 2 5.5\n"
     ]
    },
    {
     "name": "stdout",
     "output_type": "stream",
     "text": [
      "the result 0.9090909090909091\n"
     ]
    }
   ],
   "source": [
    "# write your code here ^_^\n",
    "try:\n",
    "    inputNum1 = input(\"Enter number 1\")\n",
    "    inputNum2 = input(\"Enter number 2\")\n",
    "    result = float(inputNum1) /float(inputNum2)\n",
    "    print(\"the result\" , result)\n",
    "except ZeroDivisionError:\n",
    "    print(\"ZeroDivisionError\")\n",
    "except ValueError:\n",
    "    print(\"ValueError\")\n"
   ]
  },
  {
   "cell_type": "markdown",
   "metadata": {
    "id": "CPWcDSC_Yj3u"
   },
   "source": [
    "### Task 2\n",
    "- Use \"Random\" library to do the following:\n",
    "    1. Create a list of random numbers using list comprehension.\n",
    "    2. Create a list of squares of the even numbers from random numbers using list comprehension.\n",
    "    3. Create a list of tuples (number, square) for random numbers using list comprehension."
   ]
  },
  {
   "cell_type": "code",
   "execution_count": 45,
   "metadata": {
    "id": "Yfq-i6CeYj3u"
   },
   "outputs": [
    {
     "name": "stdout",
     "output_type": "stream",
     "text": [
      "[67, 31, 77, 20, 80, 29, 61, 29, 17, 87]\n",
      "[400, 6400]\n",
      "[(67, 4489), (31, 961), (77, 5929), (20, 400), (80, 6400), (29, 841), (61, 3721), (29, 841), (17, 289), (87, 7569)]\n"
     ]
    }
   ],
   "source": [
    "# write your code here ^_^\n",
    "import random \n",
    "\n",
    "randomNumber = [random.randint(1,100) for x in range(10)]\n",
    "squaresNumber = [i**2 for i in randomNumber if i % 2 == 0]\n",
    "print(randomNumber)\n",
    "print(squaresNumber)\n",
    "numberSquareTuples = [(i, i**2) for i in randomNumber]\n",
    "print(numberSquareTuples)"
   ]
  },
  {
   "cell_type": "markdown",
   "metadata": {
    "id": "jYdOq46NYj3u"
   },
   "source": [
    "### Task 3\n",
    "- Create a dictionary where the keys are numbers from 1 to 5 and the values are list of their squares and cubes.\n",
    "\n",
    "  - **hint**: use dictionary of list comprehension.\n",
    "\n",
    "- Create a dictionary from two lists (one with keys and one with values) using dictionary comprehension.\n",
    "\n"
   ]
  },
  {
   "cell_type": "code",
   "execution_count": 50,
   "metadata": {
    "id": "IEnsiNmCYj3u"
   },
   "outputs": [
    {
     "name": "stdout",
     "output_type": "stream",
     "text": [
      "{1: 1, 2: 2, 3: 3, 4: 4, 5: 5}\n"
     ]
    }
   ],
   "source": [
    "# write your code here ^_^\n",
    "keys = [1,2,3,4,5]\n",
    "values = [1,2,3,4,5]\n",
    "\n",
    "dic = {keys[i]:values[i] for i in range(5) }\n",
    "print(dic)"
   ]
  },
  {
   "cell_type": "markdown",
   "metadata": {
    "id": "6T9TCQ8SYj3v"
   },
   "source": [
    "### Task 4\n",
    "- Given a dictionary where keys are student names and values are lists of their scores, write a function that updates the scores of students who have achieved a perfect score (100) by adding a bonus of 5 points to each score. Use dictionary comprehension to achieve this.\n",
    "\n",
    "    - Implement the function add_bonus_to_perfect_scores(student_scores) that adds a bonus of 5 points to each score of students who have achieved a perfect score (100)."
   ]
  },
  {
   "cell_type": "code",
   "execution_count": 56,
   "metadata": {
    "id": "T3R_VsQpYj3v"
   },
   "outputs": [
    {
     "name": "stdout",
     "output_type": "stream",
     "text": [
      "{'Yosef': [105, 90, 95], 'Ail': [80, 85, 105], 'Mohmmed': [105, 105, 105], 'Ahamd': [70, 75, 80]}\n"
     ]
    }
   ],
   "source": [
    "# write your code here ^_^\n",
    "def addBonusToPerfectScores(studentScores):\n",
    "    updatedScores = {student: [score + 5 if score == 100 else score for score in scores] for student, scores in studentScores.items()}\n",
    "    return updatedScores\n",
    "studentScores = {\n",
    "    'Yosef': [100, 90, 95],\n",
    "    'Ail': [80, 85, 100],\n",
    "    'Mohmmed': [100, 100, 100],\n",
    "    'Ahamd': [70, 75, 80]\n",
    "}\n",
    "updatedStudentScores = addBonusToPerfectScores(studentScores)\n",
    "print(updatedStudentScores)\n"
   ]
  },
  {
   "cell_type": "markdown",
   "metadata": {
    "id": "rJkOEFAwYj3v"
   },
   "source": []
  }
 ],
 "metadata": {
  "colab": {
   "provenance": []
  },
  "kernelspec": {
   "display_name": "Python [conda env:base] *",
   "language": "python",
   "name": "conda-base-py"
  },
  "language_info": {
   "codemirror_mode": {
    "name": "ipython",
    "version": 3
   },
   "file_extension": ".py",
   "mimetype": "text/x-python",
   "name": "python",
   "nbconvert_exporter": "python",
   "pygments_lexer": "ipython3",
   "version": "3.12.7"
  }
 },
 "nbformat": 4,
 "nbformat_minor": 4
}
