{
 "cells": [
  {
   "cell_type": "markdown",
   "metadata": {
    "id": "x7F-mxeubDUG"
   },
   "source": [
    "# Python_Lab_2.1\n"
   ]
  },
  {
   "cell_type": "markdown",
   "metadata": {
    "id": "14c6Hn1BbDUH"
   },
   "source": [
    "### Task 1\n",
    "1. Write a function named is_prime that takes a number as a parameter and returns True if the number is prime and False otherwise. Print whether the number 29 is prime."
   ]
  },
  {
   "cell_type": "code",
   "execution_count": 17,
   "metadata": {
    "id": "5e_MZEN0bDUI"
   },
   "outputs": [
    {
     "name": "stdout",
     "output_type": "stream",
     "text": [
      "False\n",
      "True\n"
     ]
    }
   ],
   "source": [
    "# write your code here ^_^\n",
    "def is_prime(num):\n",
    "    if num < 1:\n",
    "        return False\n",
    "    if num <= 3:\n",
    "        return True\n",
    "    if num % 2 == 0 or num % 3==0:\n",
    "        return False\n",
    "    for i in range(5, int(num**2)+ 1, 2):\n",
    "        if num % i == 0:\n",
    "            return False\n",
    "    return True\n",
    "\n",
    "print(is_prime(29))\n",
    "print(is_prime(1))\n",
    "    "
   ]
  },
  {
   "cell_type": "markdown",
   "metadata": {
    "id": "2zKG8ZcybDUI"
   },
   "source": [
    "### Task 2\n",
    "1. Create a list of 10 numbers and sort them in descending order using the sort() function.\n",
    "2. Use the len() function to print the length of the sorted list.\n",
    "3. Use the zip() function to combine three lists (names, ages, and cities) into a list of tuples.\n",
    "4. Use the range() function to create a list of even numbers from 2 to 20 and print the list."
   ]
  },
  {
   "cell_type": "code",
   "execution_count": 7,
   "metadata": {
    "id": "yyoe__M_bDUI"
   },
   "outputs": [
    {
     "name": "stdout",
     "output_type": "stream",
     "text": [
      "[10, 9, 8, 8, 7, 5, 3, 2, 1, 1]\n",
      "10\n",
      "(('Ahmed', 22, 'Madina'), ('Yosef', 33, 'Jedda'), ('Ali', 44, 'Riyadh'))\n",
      "[2, 4, 6, 8, 10, 12, 14, 16, 18, 20]\n"
     ]
    }
   ],
   "source": [
    "# write your code here ^_^\n",
    "list = [1,2,3,9,5,8,7,8,1,10]\n",
    "list.sort(reverse=True)\n",
    "print(list)\n",
    "print(len(list))\n",
    "listName = [\"Ahmed\",\"Yosef\",\"Ali\"]\n",
    "listAge = [22,33,44]\n",
    "listCities = [\"Madina\",\"Jedda\",\"Riyadh\"]\n",
    "combineList = tuple(zip(listName,listAge,listCities))\n",
    "print(combineList)\n",
    "listEvenNumber = [i for i in range(2,21) if i % 2 ==0]\n",
    "print(listEvenNumber)"
   ]
  },
  {
   "cell_type": "markdown",
   "metadata": {
    "id": "aStW5p7AbDUI"
   },
   "source": [
    "### Task 3\n",
    "Build a phone book program that receives the phone number, and returns the name of the owner.\n",
    "You can follow the table below:\n",
    "\n",
    "| Name     | Number     |\n",
    "| -------- | ---------- |\n",
    "| Amal     | 1111111111 |\n",
    "| Mohammed | 2222222222 |\n",
    "| Khadijah | 3333333333 |\n",
    "| Abdullah | 4444444444 |\n",
    "| Rawan    | 5555555555 |\n",
    "| Faisal   | 6666666666 |\n",
    "| Layla    | 7777777777 |\n",
    "\n",
    "- If the number exists, print the owner. Otherwise, print \"Sorry, the number is not found\".\n",
    "- If the number is less or more than 10 numbers, print \"This is invalid number\".\n",
    "- If the number contains letters or symbols, print \"This is invalid number\".\n"
   ]
  },
  {
   "cell_type": "code",
   "execution_count": 3,
   "metadata": {
    "id": "kvXmjUe-bDUJ"
   },
   "outputs": [
    {
     "name": "stdin",
     "output_type": "stream",
     "text": [
      "Enter Number phone 1\n"
     ]
    },
    {
     "name": "stdout",
     "output_type": "stream",
     "text": [
      "This is invalid number\n"
     ]
    }
   ],
   "source": [
    "# write your code here ^_^\n",
    "dic = {\n",
    "    \"1111111111\" : \"Amal\",\n",
    "    \"2222222222\" : \"Mohammed\",\n",
    "    \"3333333333\" : \"Khadijah\",\n",
    "    \"4444444444\" : \"Abdullah\",\n",
    "    \"5555555555\" : \"Rawan\",\n",
    "    \"6666666666\" : \"Faisal\",\n",
    "    \"7777777777\" : \"Layla\",\n",
    "}   \n",
    "inputNumber = input(\"Enter Number phone\")\n",
    "if inputNumber in dic:\n",
    "    print(f\"the number is exists and the owner is {dic[inputNumber]}\")\n",
    "elif len(inputNumber) < 10:\n",
    "    print(\"This is invalid number\")\n",
    "elif not inputNumber.isdigit():\n",
    "    print(\"This is invalid number\")\n",
    "else:\n",
    "    print(\"Sorry, the number is not found\")\n",
    "    \n"
   ]
  },
  {
   "cell_type": "markdown",
   "metadata": {
    "id": "exLHQ28nbDUJ"
   },
   "source": [
    "### Task 4\n",
    "- Given the following list : [5, 4, 17, 19, 30, 2, 7, 10, 45]\n",
    "    1. Use a lambda function to filter out only the odd numbers.\n",
    "    2. Print the new list of odd numbers."
   ]
  },
  {
   "cell_type": "code",
   "execution_count": 1,
   "metadata": {
    "id": "64SUsh1cbDUJ"
   },
   "outputs": [
    {
     "name": "stdout",
     "output_type": "stream",
     "text": [
      "[5, 17, 19, 7, 45]\n"
     ]
    }
   ],
   "source": [
    "# write your code here ^_^\n",
    "num = [5, 4, 17, 19, 30, 2, 7, 10, 45]\n",
    "listOdd = list(filter(lambda x: x % 2 != 0, num))\n",
    "print(listOdd)"
   ]
  },
  {
   "cell_type": "code",
   "execution_count": null,
   "metadata": {},
   "outputs": [],
   "source": []
  }
 ],
 "metadata": {
  "colab": {
   "provenance": []
  },
  "kernelspec": {
   "display_name": "Python [conda env:base] *",
   "language": "python",
   "name": "conda-base-py"
  },
  "language_info": {
   "codemirror_mode": {
    "name": "ipython",
    "version": 3
   },
   "file_extension": ".py",
   "mimetype": "text/x-python",
   "name": "python",
   "nbconvert_exporter": "python",
   "pygments_lexer": "ipython3",
   "version": "3.12.7"
  }
 },
 "nbformat": 4,
 "nbformat_minor": 4
}
