{
 "cells": [
  {
   "cell_type": "markdown",
   "metadata": {
    "id": "x7F-mxeubDUG"
   },
   "source": [
    "# Python_Lab_2.1\n"
   ]
  },
  {
   "cell_type": "markdown",
   "metadata": {
    "id": "14c6Hn1BbDUH"
   },
   "source": [
    "### Task 1\n",
    "1. Write a function named is_prime that takes a number as a parameter and returns True if the number is prime and False otherwise. Print whether the number 29 is prime."
   ]
  },
  {
   "cell_type": "code",
   "execution_count": 39,
   "metadata": {
    "id": "5e_MZEN0bDUI"
   },
   "outputs": [
    {
     "data": {
      "text/plain": [
       "True"
      ]
     },
     "execution_count": 39,
     "metadata": {},
     "output_type": "execute_result"
    }
   ],
   "source": [
    "# write your code here ^_^\n",
    "def is_prime(n):\n",
    "    if n < 2:\n",
    "        return False\n",
    "    for i in range(2, n):\n",
    "        if n % i == 0:\n",
    "            return False\n",
    "    return True\n",
    "        \n",
    "is_prime(29)"
   ]
  },
  {
   "cell_type": "code",
   "execution_count": 40,
   "metadata": {},
   "outputs": [
    {
     "name": "stdout",
     "output_type": "stream",
     "text": [
      "1  not prime\n",
      "3  prime\n",
      "5  prime\n",
      "7  prime\n",
      "9  not prime\n",
      "11  prime\n",
      "13  prime\n",
      "15  not prime\n",
      "17  prime\n",
      "19  prime\n",
      "21  not prime\n",
      "23  prime\n",
      "25  not prime\n",
      "27  not prime\n",
      "29  prime\n",
      "31  prime\n",
      "33  not prime\n",
      "35  not prime\n",
      "37  prime\n",
      "39  not prime\n",
      "41  prime\n",
      "43  prime\n",
      "45  not prime\n",
      "47  prime\n",
      "49  not prime\n"
     ]
    }
   ],
   "source": [
    "\n",
    "\n",
    "for n in range(1,50,2):\n",
    "    if is_prime(n):\n",
    "        print(n, \" prime\")\n",
    "    else:\n",
    "        print(n, \" not prime\")\n",
    "\n",
    "# is_prime(2)\n",
    "\n"
   ]
  },
  {
   "cell_type": "markdown",
   "metadata": {
    "id": "2zKG8ZcybDUI"
   },
   "source": [
    "### Task 2\n",
    "1. Create a list of 10 numbers and sort them in descending order using the sort() function.\n",
    "2. Use the len() function to print the length of the sorted list.\n",
    "3. Use the zip() function to combine three lists (names, ages, and cities) into a list of tuples.\n",
    "4. Use the range() function to create a list of even numbers from 2 to 20 and print the list."
   ]
  },
  {
   "cell_type": "code",
   "execution_count": 41,
   "metadata": {
    "id": "yyoe__M_bDUI"
   },
   "outputs": [
    {
     "name": "stdout",
     "output_type": "stream",
     "text": [
      "[75, 56, 45, 21, 13, 7, 5, 5, 4, 3]\n",
      "length of the list 10\n",
      "[('Ziad', 22, 'Riyadh'), ('Mohammed', 27, 'Mecca'), ('Nasser', 22, 'Dammam'), ('Faisal', 23, 'Hail'), ('salman', 28, 'Abha')]\n"
     ]
    },
    {
     "data": {
      "text/plain": [
       "[2, 4, 6, 8, 10, 12, 14, 16, 18]"
      ]
     },
     "execution_count": 41,
     "metadata": {},
     "output_type": "execute_result"
    }
   ],
   "source": [
    "# write your code here ^_^\n",
    "numbers=[5,4,13,56,75,3,45,21,7,5]\n",
    "\n",
    "numbers.sort(reverse=True)\n",
    "\n",
    "print(numbers)\n",
    "\n",
    "print(\"length of the list\",len(numbers))\n",
    "\n",
    "names=[\"Ziad\",\"Mohammed\",\"Nasser\",\"Faisal\",\"salman\"]\n",
    "ages=[22,27,22,23,28]\n",
    "cities=[\"Riyadh\",\"Mecca\",\"Dammam\",\"Hail\",\"Abha\",]\n",
    "\n",
    "info=list(zip(names,ages,cities))\n",
    "print(info)\n",
    "\n",
    "\n",
    "even=list(range(2,20,2))\n",
    "even"
   ]
  },
  {
   "cell_type": "markdown",
   "metadata": {
    "id": "aStW5p7AbDUI"
   },
   "source": [
    "### Task 3\n",
    "Build a phone book program that receives the phone number, and returns the name of the owner.\n",
    "You can follow the table below:\n",
    "\n",
    "| Name     | Number     |\n",
    "| -------- | ---------- |\n",
    "| Amal     | 1111111111 |\n",
    "| Mohammed | 2222222222 |\n",
    "| Khadijah | 3333333333 |\n",
    "| Abdullah | 4444444444 |\n",
    "| Rawan    | 5555555555 |\n",
    "| Faisal   | 6666666666 |\n",
    "| Layla    | 7777777777 |\n",
    "\n",
    "- If the number exists, print the owner. Otherwise, print \"Sorry, the number is not found\".\n",
    "- If the number is less or more than 10 numbers, print \"This is invalid number\".\n",
    "- If the number contains letters or symbols, print \"This is invalid number\".\n"
   ]
  },
  {
   "cell_type": "code",
   "execution_count": 59,
   "metadata": {
    "id": "kvXmjUe-bDUJ"
   },
   "outputs": [
    {
     "data": {
      "text/plain": [
       "'This is invalid number'"
      ]
     },
     "execution_count": 59,
     "metadata": {},
     "output_type": "execute_result"
    }
   ],
   "source": [
    "# write your code here ^_^\n",
    "\n",
    "names=['Amal','Mohammed','Khadijah','Abdullah','Rawan','Faisal','Layla']\n",
    "PNumbers=['1111111111','2222222222','3333333333','4444444444','5555555555','6666666666','7777777777']\n",
    "\n",
    "zipped=list(zip(names,PNumbers))\n",
    "\n",
    "zipped\n",
    "\n",
    "phone_number = input('Enter the phone number:')\n",
    "\n",
    "def check(phone_number):\n",
    "    if len(phone_number) != 10:\n",
    "        return \"this is invalid number\"\n",
    "    \n",
    "    for i in phone_number:\n",
    "        if i not in '0123456789': \n",
    "            return \"This is invalid number\"\n",
    "    \n",
    "    for n,p in zipped:\n",
    "        if p == phone_number:\n",
    "            return n\n",
    "    return \"Sorry, the number is not found\"\n",
    "     \n",
    "\n",
    "check(phone_number)\n",
    "\n",
    "\n",
    "\n"
   ]
  },
  {
   "cell_type": "markdown",
   "metadata": {
    "id": "exLHQ28nbDUJ"
   },
   "source": [
    "### Task 4\n",
    "- Given the following list : [5, 4, 17, 19, 30, 2, 7, 10, 45]\n",
    "    1. Use a lambda function to filter out only the odd numbers.\n",
    "    2. Print the new list of odd numbers."
   ]
  },
  {
   "cell_type": "code",
   "execution_count": 68,
   "metadata": {
    "id": "64SUsh1cbDUJ"
   },
   "outputs": [
    {
     "data": {
      "text/plain": [
       "[5, 17, 19, 7, 45]"
      ]
     },
     "execution_count": 68,
     "metadata": {},
     "output_type": "execute_result"
    }
   ],
   "source": [
    "# write your code here ^_^\n",
    "\n",
    "l=[5, 4, 17, 19, 30, 2, 7, 10, 45]\n",
    "\n",
    "lodd=filter(lambda x :x%2==1,l)\n",
    "lodd=list(lodd)\n",
    "lodd"
   ]
  }
 ],
 "metadata": {
  "colab": {
   "provenance": []
  },
  "kernelspec": {
   "display_name": "Python 3",
   "language": "python",
   "name": "python3"
  },
  "language_info": {
   "codemirror_mode": {
    "name": "ipython",
    "version": 3
   },
   "file_extension": ".py",
   "mimetype": "text/x-python",
   "name": "python",
   "nbconvert_exporter": "python",
   "pygments_lexer": "ipython3",
   "version": "3.13.1"
  }
 },
 "nbformat": 4,
 "nbformat_minor": 0
}
