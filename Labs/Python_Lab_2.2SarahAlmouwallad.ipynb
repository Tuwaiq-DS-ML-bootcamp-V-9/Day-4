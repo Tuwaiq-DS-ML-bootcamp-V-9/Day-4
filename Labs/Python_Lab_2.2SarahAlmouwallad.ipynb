{
 "cells": [
  {
   "cell_type": "markdown",
   "metadata": {
    "id": "E9Y5ss1ZYj3r"
   },
   "source": [
    "# Python_Lab_2.2\n"
   ]
  },
  {
   "cell_type": "markdown",
   "metadata": {
    "id": "Q1kAqc72Yj3t"
   },
   "source": [
    "### Task 1\n",
    "1. Write a program that prompts the user to enter two numbers and prints their division. Handle cases where the user enters non-numeric values or attempts to divide by zero using a try-except block.\n"
   ]
  },
  {
   "cell_type": "code",
   "execution_count": 38,
   "metadata": {
    "id": "H-xyoRTVYj3t"
   },
   "outputs": [
    {
     "name": "stdout",
     "output_type": "stream",
     "text": [
      "2.0\n"
     ]
    }
   ],
   "source": [
    "# write your code here ^_^\n",
    "def div():\n",
    "    try:\n",
    "         number1= int(input(\"enter number 1\"))\n",
    "         number2= int(input(\"enter number 2\"))\n",
    "         print( number1/number2)\n",
    "    except Exception:\n",
    "         print(\"it's non-numeric values or you attempts to divide by zero   \")\n",
    "div()\n"
   ]
  },
  {
   "cell_type": "markdown",
   "metadata": {
    "id": "CPWcDSC_Yj3u"
   },
   "source": [
    "### Task 2\n",
    "- Use \"Random\" library to do the following:\n",
    "    1. Create a list of random numbers using list comprehension.\n",
    "    2. Create a list of squares of the even numbers from random numbers using list comprehension.\n",
    "    3. Create a list of tuples (number, square) for random numbers using list comprehension."
   ]
  },
  {
   "cell_type": "code",
   "execution_count": 40,
   "metadata": {
    "id": "Yfq-i6CeYj3u"
   },
   "outputs": [
    {
     "name": "stdout",
     "output_type": "stream",
     "text": [
      "[4, 2, 1, 7, 2]\n",
      "[16, 4, 4]\n",
      "[([4, 2, 1, 7, 2], [16, 4, 4])]\n"
     ]
    }
   ],
   "source": [
    "# write your code here ^_^\n",
    "import random\n",
    "random_number =[random.randrange(1,10)for _ in range(5)]\n",
    "print(random_number)\n",
    "\n",
    "square= [number ** 2 for number in random_number if number%2 ==0 ]\n",
    "print(square)\n",
    "list_tuple=[(random_number,square)or number in random_number ]\n",
    "print(list_tuple)"
   ]
  },
  {
   "cell_type": "markdown",
   "metadata": {
    "id": "jYdOq46NYj3u"
   },
   "source": [
    "### Task 3\n",
    "- Create a dictionary where the keys are numbers from 1 to 5 and the values are list of their squares and cubes.\n",
    "\n",
    "  - **hint**: use dictionary of list comprehension.\n",
    "\n",
    "- Create a dictionary from two lists (one with keys and one with values) using dictionary comprehension.\n",
    "\n"
   ]
  },
  {
   "cell_type": "code",
   "execution_count": 54,
   "metadata": {
    "id": "IEnsiNmCYj3u"
   },
   "outputs": [
    {
     "name": "stdout",
     "output_type": "stream",
     "text": [
      "{1: [1, 1], 2: [4, 8], 3: [9, 27], 4: [16, 64], 5: [25, 125]}\n",
      "{'ahmed': 30, 'sarah': 20, 'faitma': 10, 'huda': 50, 'mona': 40}\n"
     ]
    }
   ],
   "source": [
    "# write your code here ^_^\n",
    "create_dict={number:[number **2 , number**3] for number in range (1,6)}\n",
    "print(create_dict)\n",
    "\n",
    "keys = [\"ahmed\", \"sarah\", \"faitma\",\"huda\", \"mona\"]\n",
    "values = [30, 20, 10, 50 ,40]\n",
    "dict_list={keys : values for keys, values in zip(keys,values)}\n",
    "print(dict_list)"
   ]
  },
  {
   "cell_type": "markdown",
   "metadata": {
    "id": "6T9TCQ8SYj3v"
   },
   "source": [
    "### Task 4\n",
    "- Given a dictionary where keys are student names and values are lists of their scores, write a function that updates the scores of students who have achieved a perfect score (100) by adding a bonus of 5 points to each score. Use dictionary comprehension to achieve this.\n",
    "\n",
    "    - Implement the function add_bonus_to_perfect_scores(student_scores) that adds a bonus of 5 points to each score of students who have achieved a perfect score (100)."
   ]
  },
  {
   "cell_type": "code",
   "execution_count": 83,
   "metadata": {
    "id": "T3R_VsQpYj3v"
   },
   "outputs": [
    {
     "name": "stdout",
     "output_type": "stream",
     "text": [
      "{'sara': [90, 105, 105], 'faitma': [60, 75, 105]}\n"
     ]
    }
   ],
   "source": [
    "# write your code here ^_^\n",
    "student_scores = {\n",
    "    'sara': [90, 100, 100],\n",
    "    'faitma': [60, 75, 100],\n",
    "   \n",
    "}\n",
    "\n",
    "def add_bonus_to_perfect_scores(student_scores):\n",
    "    return { s : [score +5 if score == 100 else score  for score in i]\n",
    "            for s ,i in student_scores.items() \n",
    "        \n",
    "    }\n",
    "     \n",
    "\n",
    "    \n",
    "y= add_bonus_to_perfect_scores(student_scores)\n",
    "print(y)"
   ]
  },
  {
   "cell_type": "markdown",
   "metadata": {
    "id": "rJkOEFAwYj3v"
   },
   "source": []
  }
 ],
 "metadata": {
  "colab": {
   "provenance": []
  },
  "kernelspec": {
   "display_name": "Python 3",
   "language": "python",
   "name": "python3"
  },
  "language_info": {
   "codemirror_mode": {
    "name": "ipython",
    "version": 3
   },
   "file_extension": ".py",
   "mimetype": "text/x-python",
   "name": "python",
   "nbconvert_exporter": "python",
   "pygments_lexer": "ipython3",
   "version": "3.9.6"
  }
 },
 "nbformat": 4,
 "nbformat_minor": 0
}
