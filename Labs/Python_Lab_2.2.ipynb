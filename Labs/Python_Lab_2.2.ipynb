{
 "cells": [
  {
   "cell_type": "markdown",
   "metadata": {
    "id": "E9Y5ss1ZYj3r"
   },
   "source": [
    "# Python_Lab_2.2\n"
   ]
  },
  {
   "cell_type": "markdown",
   "metadata": {
    "id": "Q1kAqc72Yj3t"
   },
   "source": [
    "### Task 1\n",
    "1. Write a program that prompts the user to enter two numbers and prints their division. Handle cases where the user enters non-numeric values or attempts to divide by zero using a try-except block.\n"
   ]
  },
  {
   "cell_type": "code",
   "execution_count": 42,
   "metadata": {
    "id": "H-xyoRTVYj3t"
   },
   "outputs": [
    {
     "name": "stdin",
     "output_type": "stream",
     "text": [
      "Enter the first Number: 4\n",
      "Enter the second Number: 2\n"
     ]
    },
    {
     "name": "stdout",
     "output_type": "stream",
     "text": [
      "The division of the two numbers is: 2.0\n"
     ]
    }
   ],
   "source": [
    "try:\n",
    "    num1 = input(\"Enter the first Number:\")\n",
    "    num2 = input('Enter the second Number:')\n",
    "   \n",
    "    if  not (num1.isdigit() and num2.isdigit()):\n",
    "        raise ValueError\n",
    "        \n",
    "    num1 = float(num1)\n",
    "    num2 = float(num2)\n",
    "\n",
    "    if num2 == 0:\n",
    "        raise ZeroDivisionError\n",
    "\n",
    "except ValueError as e:\n",
    "     print(\"Both inputs must be numbers.\", e)\n",
    "except ZeroDivisionError as e:\n",
    "    print(\"Cannot divide by zero.\",e)\n",
    "except Exception as e :\n",
    "    print('There is somthing wrong',e)\n",
    "else:\n",
    "    result = num1/num2\n",
    "    print('The division of the two numbers is:',result) \n"
   ]
  },
  {
   "cell_type": "markdown",
   "metadata": {
    "id": "CPWcDSC_Yj3u"
   },
   "source": [
    "### Task 2\n",
    "- Use \"Random\" library to do the following:\n",
    "    1. Create a list of random numbers using list comprehension.\n",
    "    2. Create a list of squares of the even numbers from random numbers using list comprehension.\n",
    "    3. Create a list of tuples (number, square) for random numbers using list comprehension."
   ]
  },
  {
   "cell_type": "code",
   "execution_count": 78,
   "metadata": {
    "id": "Yfq-i6CeYj3u"
   },
   "outputs": [
    {
     "name": "stdout",
     "output_type": "stream",
     "text": [
      "[65, 57, 11, 89, 23, 100, 76, 64, 85, 51]\n",
      "[4225, 3249, 121, 7921, 529, 10000, 5776, 4096, 7225, 2601]\n",
      "[(65, 4225), (57, 3249), (11, 121), (89, 7921), (23, 529), (100, 10000), (76, 5776), (64, 4096), (85, 7225), (51, 2601)]\n"
     ]
    }
   ],
   "source": [
    "from random import randint\n",
    "\n",
    "ls=[randint(1, 100) for x in range(10)] \n",
    "print(ls)\n",
    "\n",
    "even_num = [x**2 for x in ls if x%2 ==0]\n",
    "print(even_num)\n",
    "\n",
    "\n",
    "list_tuples = [(x,x**2) for x in ls ]\n",
    "print(list_tuples)"
   ]
  },
  {
   "cell_type": "markdown",
   "metadata": {
    "id": "jYdOq46NYj3u"
   },
   "source": [
    "### Task 3\n",
    "- Create a dictionary where the keys are numbers from 1 to 5 and the values are list of their squares and cubes.\n",
    "\n",
    "  - **hint**: use dictionary of list comprehension.\n",
    "\n",
    "- Create a dictionary from two lists (one with keys and one with values) using dictionary comprehension.\n",
    "\n"
   ]
  },
  {
   "cell_type": "code",
   "execution_count": 90,
   "metadata": {
    "id": "IEnsiNmCYj3u"
   },
   "outputs": [
    {
     "name": "stdout",
     "output_type": "stream",
     "text": [
      "{1: [1, 1], 2: [4, 8], 3: [9, 27], 4: [16, 64], 5: [25, 125]}\n",
      "{'a': 1, 'b': 2, 'c': 3, 'd': 4, 'e': 5}\n"
     ]
    }
   ],
   "source": [
    "dic = {x:[x**2,x**3] for x in range(1,6)}\n",
    "print(dic)\n",
    "\n",
    "keys = ['a', 'b', 'c', 'd', 'e']\n",
    "values = [1, 2, 3, 4, 5]\n",
    "\n",
    "dic2 ={ keys[x]:values[x] for x in range(len(keys))}\n",
    "print(dic2)"
   ]
  },
  {
   "cell_type": "markdown",
   "metadata": {
    "id": "6T9TCQ8SYj3v"
   },
   "source": [
    "### Task 4\n",
    "- Given a dictionary where keys are student names and values are lists of their scores, write a function that updates the scores of students who have achieved a perfect score (100) by adding a bonus of 5 points to each score. Use dictionary comprehension to achieve this.\n",
    "\n",
    "    - Implement the function add_bonus_to_perfect_scores(student_scores) that adds a bonus of 5 points to each score of students who have achieved a perfect score (100)."
   ]
  },
  {
   "cell_type": "code",
   "execution_count": 101,
   "metadata": {
    "id": "T3R_VsQpYj3v"
   },
   "outputs": [
    {
     "name": "stdout",
     "output_type": "stream",
     "text": [
      "{'Amal': [66, 105, 80], 'Mohammed': [50, 66, 87], 'Khadijah': [105, 105, 99], 'Abdullah': [49, 70, 89]}\n"
     ]
    }
   ],
   "source": [
    "student_scores ={\n",
    "       \"Amal\":[66,100,80],\n",
    "        \"Mohammed\":[50,66,87],\n",
    "        \"Khadijah\":[100,100,99],\n",
    "     \"Abdullah\":[49,70,89]\n",
    "    \n",
    "}\n",
    "\n",
    "def add_bonus_to_perfect_scores(student_scores):\n",
    "    student_scores ={ student:[score+5 if score ==100 else score for score in scores] for student,scores in student_scores.items()}\n",
    "    print(student_scores)\n",
    "\n",
    "add_bonus_to_perfect_scores(student_scores)\n"
   ]
  },
  {
   "cell_type": "markdown",
   "metadata": {
    "id": "rJkOEFAwYj3v"
   },
   "source": []
  }
 ],
 "metadata": {
  "colab": {
   "provenance": []
  },
  "kernelspec": {
   "display_name": "Python 3 (ipykernel)",
   "language": "python",
   "name": "python3"
  },
  "language_info": {
   "codemirror_mode": {
    "name": "ipython",
    "version": 3
   },
   "file_extension": ".py",
   "mimetype": "text/x-python",
   "name": "python",
   "nbconvert_exporter": "python",
   "pygments_lexer": "ipython3",
   "version": "3.12.4"
  }
 },
 "nbformat": 4,
 "nbformat_minor": 4
}
