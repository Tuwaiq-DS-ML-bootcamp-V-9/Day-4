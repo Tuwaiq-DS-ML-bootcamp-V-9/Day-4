{
 "cells": [
  {
   "cell_type": "markdown",
   "metadata": {
    "id": "E9Y5ss1ZYj3r"
   },
   "source": [
    "# Python_Lab_2.2\n"
   ]
  },
  {
   "cell_type": "markdown",
   "metadata": {
    "id": "Q1kAqc72Yj3t"
   },
   "source": [
    "### Task 1\n",
    "1. Write a program that prompts the user to enter two numbers and prints their division. Handle cases where the user enters non-numeric values or attempts to divide by zero using a try-except block.\n"
   ]
  },
  {
   "cell_type": "code",
   "execution_count": 10,
   "metadata": {
    "id": "H-xyoRTVYj3t"
   },
   "outputs": [
    {
     "name": "stdout",
     "output_type": "stream",
     "text": [
      "Erorr divide by zero\n"
     ]
    }
   ],
   "source": [
    "# write your code here ^_^\n",
    "\n",
    "try:\n",
    "    num1 = float(input(\"enter first number\"))\n",
    "    num2 = float(input(\"enter second number\"))\n",
    "\n",
    "    result = num1 / num2\n",
    "\n",
    "    print(result) \n",
    "except ZeroDivisionError:\n",
    "    print(\"Erorr divide by zero\")\n",
    "except ValueError:\n",
    "    print(\"enter valid number\")\n",
    "\n"
   ]
  },
  {
   "cell_type": "markdown",
   "metadata": {
    "id": "CPWcDSC_Yj3u"
   },
   "source": [
    "### Task 2\n",
    "- Use \"Random\" library to do the following:\n",
    "    1. Create a list of random numbers using list comprehension.\n",
    "    2. Create a list of squares of the even numbers from random numbers using list comprehension.\n",
    "    3. Create a list of tuples (number, square) for random numbers using list comprehension."
   ]
  },
  {
   "cell_type": "code",
   "execution_count": 27,
   "metadata": {
    "id": "Yfq-i6CeYj3u"
   },
   "outputs": [
    {
     "name": "stdout",
     "output_type": "stream",
     "text": [
      "Random Numbers: [18, 10, 14, 36, 25, 52, 83, 63, 67, 9]\n",
      "Squares of Even Numbers: [324, 100, 196, 1296, 2704]\n",
      "List of Tuples (Number, Square): [(18, 324), (10, 100), (14, 196), (36, 1296), (25, 625), (52, 2704), (83, 6889), (63, 3969), (67, 4489), (9, 81)]\n"
     ]
    }
   ],
   "source": [
    "# write your code here ^_^\n",
    "import random\n",
    "\n",
    "\n",
    "random_numbers = [random.randint(1, 100) for i in range(10)]  \n",
    "print(\"Random Numbers:\", random_numbers)\n",
    "\n",
    "even_squares = [num ** 2 for num in random_numbers if num % 2 == 0]\n",
    "print(\"Squares of Even Numbers:\", even_squares)\n",
    "\n",
    "\n",
    "number_square_tuples = [(num, num ** 2) for num in random_numbers]\n",
    "print(\"List of Tuples (Number, Square):\", number_square_tuples)"
   ]
  },
  {
   "cell_type": "markdown",
   "metadata": {
    "id": "jYdOq46NYj3u"
   },
   "source": [
    "### Task 3\n",
    "- Create a dictionary where the keys are numbers from 1 to 5 and the values are list of their squares and cubes.\n",
    "\n",
    "  - **hint**: use dictionary of list comprehension.\n",
    "\n",
    "- Create a dictionary from two lists (one with keys and one with values) using dictionary comprehension.\n",
    "\n"
   ]
  },
  {
   "cell_type": "code",
   "execution_count": 30,
   "metadata": {
    "id": "IEnsiNmCYj3u"
   },
   "outputs": [
    {
     "name": "stdout",
     "output_type": "stream",
     "text": [
      "Dictionary of Squares and Cubes: {1: [1, 1], 2: [4, 8], 3: [9, 27], 4: [16, 64], 5: [25, 125]}\n",
      "{1: [1, 1], 2: [4, 8], 3: [9, 27], 4: [16, 64], 5: [25, 125]}\n"
     ]
    }
   ],
   "source": [
    "# write your code here ^_^\n",
    "num_dict = {i: [i ** 2, i ** 3] for i in range(1, 6)}\n",
    "print(\"Dictionary of Squares and Cubes:\", num_dict)\n",
    "\n",
    "keys = [1, 2, 3, 4, 5]\n",
    "values = [[i ** 2, i ** 3] for i in keys]\n",
    "\n",
    "dict_lists = {keys[i]: values[i] for i in range(len(keys))}\n",
    "print(dict_lists)"
   ]
  },
  {
   "cell_type": "markdown",
   "metadata": {
    "id": "6T9TCQ8SYj3v"
   },
   "source": [
    "### Task 4\n",
    "- Given a dictionary where keys are student names and values are lists of their scores, write a function that updates the scores of students who have achieved a perfect score (100) by adding a bonus of 5 points to each score. Use dictionary comprehension to achieve this.\n",
    "\n",
    "    - Implement the function add_bonus_to_perfect_scores(student_scores) that adds a bonus of 5 points to each score of students who have achieved a perfect score (100)."
   ]
  },
  {
   "cell_type": "code",
   "execution_count": null,
   "metadata": {
    "id": "T3R_VsQpYj3v"
   },
   "outputs": [
    {
     "name": "stdout",
     "output_type": "stream",
     "text": [
      "{'suliman': [90, 105, 85], 'moath': [78, 105, 92], 'rakan': [105, 105, 105], 'osama': [88, 92, 80]}\n"
     ]
    }
   ],
   "source": [
    "# write your code here ^_^\n",
    "\n",
    "def add_bonus(student_scores):\n",
    "    \n",
    "    return {student: [score + 5 if score == 100 else score for score in scores]  for student, scores in student_scores.items()}\n",
    "\n",
    "\n",
    "students = {\n",
    "    \"suliman\": [90, 100, 85],\n",
    "    \"moath\": [78, 100, 92],\n",
    "    \"ryan\": [100, 100, 100],\n",
    "    \"sultan\": [88, 92, 80]\n",
    "}\n",
    "\n",
    "\n",
    "updated_scores = add_bonus(students)\n",
    "\n",
    "\n",
    "print(updated_scores)"
   ]
  },
  {
   "cell_type": "markdown",
   "metadata": {
    "id": "rJkOEFAwYj3v"
   },
   "source": []
  }
 ],
 "metadata": {
  "colab": {
   "provenance": []
  },
  "kernelspec": {
   "display_name": "Python 3",
   "language": "python",
   "name": "python3"
  },
  "language_info": {
   "codemirror_mode": {
    "name": "ipython",
    "version": 3
   },
   "file_extension": ".py",
   "mimetype": "text/x-python",
   "name": "python",
   "nbconvert_exporter": "python",
   "pygments_lexer": "ipython3",
   "version": "3.10.4"
  }
 },
 "nbformat": 4,
 "nbformat_minor": 0
}
