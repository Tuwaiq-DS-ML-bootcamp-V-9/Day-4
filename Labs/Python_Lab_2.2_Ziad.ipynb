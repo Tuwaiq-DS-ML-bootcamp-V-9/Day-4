{
 "cells": [
  {
   "cell_type": "markdown",
   "metadata": {
    "id": "E9Y5ss1ZYj3r"
   },
   "source": [
    "# Python_Lab_2.2\n"
   ]
  },
  {
   "cell_type": "markdown",
   "metadata": {
    "id": "Q1kAqc72Yj3t"
   },
   "source": [
    "### Task 1\n",
    "1. Write a program that prompts the user to enter two numbers and prints their division. Handle cases where the user enters non-numeric values or attempts to divide by zero using a try-except block.\n"
   ]
  },
  {
   "cell_type": "code",
   "execution_count": 10,
   "metadata": {
    "id": "H-xyoRTVYj3t"
   },
   "outputs": [
    {
     "name": "stdout",
     "output_type": "stream",
     "text": [
      "Error: Invalid input. Please enter numeric values.\n"
     ]
    }
   ],
   "source": [
    "# write your code here ^_^\n",
    "\n",
    "\n",
    "try:\n",
    "    num1 = int(input(\"Enter the first number: \"))\n",
    "    num2 = int(input(\"Enter the second number: \"))\n",
    "    result = num1 / num2\n",
    "    print(f\"The division of {num1} by {num2} is: {result}\")\n",
    "except ZeroDivisionError:\n",
    "    print(\"Error: Division by zero is not allowed\")\n",
    "except ValueError:\n",
    "    print(\"Error: Invalid input. Please enter numeric values.\")\n",
    "\n",
    "            "
   ]
  },
  {
   "cell_type": "markdown",
   "metadata": {
    "id": "CPWcDSC_Yj3u"
   },
   "source": [
    "### Task 2\n",
    "- Use \"Random\" library to do the following:\n",
    "    1. Create a list of random numbers using list comprehension.\n",
    "    2. Create a list of squares of the even numbers from random numbers using list comprehension.\n",
    "    3. Create a list of tuples (number, square) for random numbers using list comprehension."
   ]
  },
  {
   "cell_type": "code",
   "execution_count": 95,
   "metadata": {
    "id": "Yfq-i6CeYj3u"
   },
   "outputs": [
    {
     "name": "stdout",
     "output_type": "stream",
     "text": [
      "[49, 2, 17, 5, 97, 76, 80, 41, 76, 22, 63, 9, 29, 0, 33]\n",
      "[4, 16, 36, 64, 100, 144, 196]\n",
      "[(5, 25), (7, 49), (4, 16), (3, 9), (2, 4)]\n"
     ]
    }
   ],
   "source": [
    "# write your code here ^_^\n",
    "import random\n",
    "\n",
    "\n",
    "Rnumbers=[random.randint(0,100) for i in range(15)]\n",
    "\n",
    "print(Rnumbers)\n",
    "\n",
    "\n",
    "\n",
    "even=[ i**2 for i in range(2,15) if i %2== 0]\n",
    "\n",
    "print(even)\n",
    "\n",
    "\n",
    "\n",
    "listT=[(n,n**2) for n in random.sample(range(1,10),5)]\n",
    "\n",
    "print(listT)"
   ]
  },
  {
   "cell_type": "markdown",
   "metadata": {
    "id": "jYdOq46NYj3u"
   },
   "source": [
    "### Task 3\n",
    "- Create a dictionary where the keys are numbers from 1 to 5 and the values are list of their squares and cubes.\n",
    "\n",
    "  - **hint**: use dictionary of list comprehension.\n",
    "\n",
    "- Create a dictionary from two lists (one with keys and one with values) using dictionary comprehension.\n",
    "\n"
   ]
  },
  {
   "cell_type": "code",
   "execution_count": 103,
   "metadata": {
    "id": "IEnsiNmCYj3u"
   },
   "outputs": [
    {
     "name": "stdout",
     "output_type": "stream",
     "text": [
      "{1: [1, 1], 2: [4, 8], 3: [9, 27], 4: [16, 64], 5: [25, 125]}\n",
      "{1: 'Ziad', 2: 'Mohammed', 3: 'Nasser', 4: 'Faisal', 5: 'salman'}\n"
     ]
    }
   ],
   "source": [
    "# write your code here ^_^\n",
    "dictSC={n:[n**2,n**3] for n in range(1,6)}\n",
    "\n",
    "print(dictSC)\n",
    "\n",
    "\n",
    "keys=list(range(1,11))\n",
    "value=[\"Ziad\",\"Mohammed\",\"Nasser\",\"Faisal\",\"salman\"]\n",
    "\n",
    "dictKV={n:p for n,p in zip(keys,value)}\n",
    "\n",
    "print(dictKV)"
   ]
  },
  {
   "cell_type": "markdown",
   "metadata": {
    "id": "6T9TCQ8SYj3v"
   },
   "source": [
    "### Task 4\n",
    "- Given a dictionary where keys are student names and values are lists of their scores, write a function that updates the scores of students who have achieved a perfect score (100) by adding a bonus of 5 points to each score. Use dictionary comprehension to achieve this.\n",
    "\n",
    "    - Implement the function add_bonus_to_perfect_scores(student_scores) that adds a bonus of 5 points to each score of students who have achieved a perfect score (100)."
   ]
  },
  {
   "cell_type": "code",
   "execution_count": 4,
   "metadata": {
    "id": "T3R_VsQpYj3v"
   },
   "outputs": [
    {
     "data": {
      "text/plain": [
       "{'Alice': [105, 95, 88],\n",
       " 'Bob': [90, 85, 80],\n",
       " 'Charlie': [105, 105, 105],\n",
       " 'David': [78, 88, 92]}"
      ]
     },
     "execution_count": 4,
     "metadata": {},
     "output_type": "execute_result"
    }
   ],
   "source": [
    "# write your code here ^_^\n",
    "students = {\n",
    "    \"Alice\": [100, 95, 88],\n",
    "    \"Bob\": [90, 85, 80],\n",
    "    \"Charlie\": [100, 100, 100],\n",
    "    \"David\": [78, 88, 92]\n",
    "}\n",
    "\n",
    "def add_bonus_to_perfect_scores(student_scores):\n",
    "    student_scores = [n + 5 if n == 100 else n for n in student_scores]\n",
    "    return student_scores\n",
    "\n",
    "\n",
    "students={name:add_bonus_to_perfect_scores(scores) for name,scores in students.items()}\n",
    "\n",
    "students\n"
   ]
  },
  {
   "cell_type": "markdown",
   "metadata": {
    "id": "rJkOEFAwYj3v"
   },
   "source": []
  }
 ],
 "metadata": {
  "colab": {
   "provenance": []
  },
  "kernelspec": {
   "display_name": "Python 3",
   "language": "python",
   "name": "python3"
  },
  "language_info": {
   "codemirror_mode": {
    "name": "ipython",
    "version": 3
   },
   "file_extension": ".py",
   "mimetype": "text/x-python",
   "name": "python",
   "nbconvert_exporter": "python",
   "pygments_lexer": "ipython3",
   "version": "3.13.1"
  }
 },
 "nbformat": 4,
 "nbformat_minor": 0
}
