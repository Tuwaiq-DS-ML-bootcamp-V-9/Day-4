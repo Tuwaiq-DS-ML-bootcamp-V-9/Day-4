{
 "cells": [
  {
   "cell_type": "markdown",
   "metadata": {
    "id": "x7F-mxeubDUG"
   },
   "source": [
    "# Python_Lab_2.1\n"
   ]
  },
  {
   "cell_type": "markdown",
   "metadata": {
    "id": "14c6Hn1BbDUH"
   },
   "source": [
    "### Task 1\n",
    "1. Write a function named is_prime that takes a number as a parameter and returns True if the number is prime and False otherwise. Print whether the number 29 is prime."
   ]
  },
  {
   "cell_type": "code",
   "execution_count": 34,
   "metadata": {
    "id": "5e_MZEN0bDUI"
   },
   "outputs": [
    {
     "data": {
      "text/plain": [
       "True"
      ]
     },
     "execution_count": 34,
     "metadata": {},
     "output_type": "execute_result"
    }
   ],
   "source": [
    "def is_prime(num):\n",
    "    if num > 1:\n",
    "        for i in range(2,num):\n",
    "            if num%i == 0:\n",
    "                return False\n",
    "        return True    \n",
    "    else:\n",
    "        return False\n",
    "            \n",
    "        \n",
    "is_prime(7)\n",
    "   \n"
   ]
  },
  {
   "cell_type": "markdown",
   "metadata": {
    "id": "2zKG8ZcybDUI"
   },
   "source": [
    "### Task 2\n",
    "1. Create a list of 10 numbers and sort them in descending order using the sort() function.\n",
    "2. Use the len() function to print the length of the sorted list.\n",
    "3. Use the zip() function to combine three lists (names, ages, and cities) into a list of tuples.\n",
    "4. Use the range() function to create a list of even numbers from 2 to 20 and print the list."
   ]
  },
  {
   "cell_type": "code",
   "execution_count": 60,
   "metadata": {
    "id": "yyoe__M_bDUI"
   },
   "outputs": [
    {
     "data": {
      "text/plain": [
       "[92, 91, 90, 55, 54, 49, 45, 36, 25, 8]"
      ]
     },
     "execution_count": 60,
     "metadata": {},
     "output_type": "execute_result"
    }
   ],
   "source": [
    "from random import randint\n",
    "\n",
    "l = []\n",
    "for x in range(10):\n",
    "    l.append(randint(0,100))\n",
    "l.sort(reverse = True)\n",
    "l"
   ]
  },
  {
   "cell_type": "markdown",
   "metadata": {
    "id": "aStW5p7AbDUI"
   },
   "source": [
    "### Task 3\n",
    "Build a phone book program that receives the phone number, and returns the name of the owner.\n",
    "You can follow the table below:\n",
    "\n",
    "| Name     | Number     |\n",
    "| -------- | ---------- |\n",
    "| Amal     | 1111111111 |\n",
    "| Mohammed | 2222222222 |\n",
    "| Khadijah | 3333333333 |\n",
    "| Abdullah | 4444444444 |\n",
    "| Rawan    | 5555555555 |\n",
    "| Faisal   | 6666666666 |\n",
    "| Layla    | 7777777777 |\n",
    "\n",
    "- If the number exists, print the owner. Otherwise, print \"Sorry, the number is not found\".\n",
    "- If the number is less or more than 10 numbers, print \"This is invalid number\".\n",
    "- If the number contains letters or symbols, print \"This is invalid number\".\n"
   ]
  },
  {
   "cell_type": "code",
   "execution_count": null,
   "metadata": {
    "id": "kvXmjUe-bDUJ"
   },
   "outputs": [],
   "source": [
    "phone_book = {\n",
    "        \"1111111111\": \"Amal\",\n",
    "        \"2222222222\": \"Mohammed\",\n",
    "        \"3333333333\": \"Khadijah\",\n",
    "        \"4444444444\": \"Abdullah\",\n",
    "        \"5555555555\": \"Rawan\",\n",
    "        \"6666666666\": \"Faisal\",\n",
    "        \"7777777777\": \"Layla\"\n",
    "    }\n",
    "phone_num = input('Enter the phone number:')\n",
    "\n",
    "\n",
    "if len(phone_num) != 10 or not phone_num.isdigit() :\n",
    "    print('This is invalid number')\n",
    "elif phone_num not in phone_book:\n",
    "    print('Sorry, the number is not found')\n",
    "else:    \n",
    "    owner = phone_book[phone_num]\n",
    "    print ('the Name of the owner ' +owner )"
   ]
  },
  {
   "cell_type": "markdown",
   "metadata": {
    "id": "exLHQ28nbDUJ"
   },
   "source": [
    "### Task 4\n",
    "- Given the following list : [5, 4, 17, 19, 30, 2, 7, 10, 45]\n",
    "    1. Use a lambda function to filter out only the odd numbers.\n",
    "    2. Print the new list of odd numbers."
   ]
  },
  {
   "cell_type": "code",
   "execution_count": 6,
   "metadata": {
    "id": "64SUsh1cbDUJ"
   },
   "outputs": [
    {
     "name": "stdout",
     "output_type": "stream",
     "text": [
      "[5, 17, 19, 7, 45]\n"
     ]
    }
   ],
   "source": [
    "x = [5, 4, 17, 19, 30, 2, 7, 10, 45]\n",
    "\n",
    "odd_num = list(filter(lambda x :x%2 != 0,x))\n",
    "\n",
    "print(odd_num)"
   ]
  }
 ],
 "metadata": {
  "colab": {
   "provenance": []
  },
  "kernelspec": {
   "display_name": "Python 3 (ipykernel)",
   "language": "python",
   "name": "python3"
  },
  "language_info": {
   "codemirror_mode": {
    "name": "ipython",
    "version": 3
   },
   "file_extension": ".py",
   "mimetype": "text/x-python",
   "name": "python",
   "nbconvert_exporter": "python",
   "pygments_lexer": "ipython3",
   "version": "3.12.4"
  }
 },
 "nbformat": 4,
 "nbformat_minor": 4
}
