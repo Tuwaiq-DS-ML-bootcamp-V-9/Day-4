{
 "cells": [
  {
   "cell_type": "markdown",
   "metadata": {
    "id": "x7F-mxeubDUG"
   },
   "source": [
    "# Python_Lab_2.1\n"
   ]
  },
  {
   "cell_type": "markdown",
   "metadata": {
    "id": "14c6Hn1BbDUH"
   },
   "source": [
    "### Task 1\n",
    "1. Write a function named is_prime that takes a number as a parameter and returns True if the number is prime and False otherwise. Print whether the number 29 is prime."
   ]
  },
  {
   "cell_type": "code",
   "execution_count": null,
   "metadata": {
    "id": "5e_MZEN0bDUI"
   },
   "outputs": [],
   "source": [
    "# write your code here ^_^\n",
    "def is_prime(n):\n",
    "    if n < 2:\n",
    "        return False\n",
    "    for i in range(2, int(n ** 0.5) + 1):\n",
    "        if n % i == 0:\n",
    "            return False\n",
    "    return True\n",
    "\n",
    "#result = int(input(\"enter:\"))\n",
    "print(is_prime(29))\n"
   ]
  },
  {
   "cell_type": "markdown",
   "metadata": {
    "id": "2zKG8ZcybDUI"
   },
   "source": [
    "### Task 2\n",
    "1. Create a list of 10 numbers and sort them in descending order using the sort() function.\n",
    "2. Use the len() function to print the length of the sorted list.\n",
    "3. Use the zip() function to combine three lists (names, ages, and cities) into a list of tuples.\n",
    "4. Use the range() function to create a list of even numbers from 2 to 20 and print the list."
   ]
  },
  {
   "cell_type": "code",
   "execution_count": 33,
   "metadata": {
    "id": "yyoe__M_bDUI"
   },
   "outputs": [
    {
     "name": "stdout",
     "output_type": "stream",
     "text": [
      "[1, 2, 3, 4, 10, 20, 22, 33, 40, 100]\n",
      "10\n",
      "(('suliman', 25, 'Rabigh'), ('sultan', 14, 'Riyadh'), ('walid', 55, 'Dammam'))\n",
      "[2, 4, 6, 8, 10, 12, 14, 16, 18, 20]\n"
     ]
    }
   ],
   "source": [
    "# write your code here ^_^\n",
    "lst =[10 , 20, 1 ,3 ,100 ,2 , 40 ,22 , 33 ,4]\n",
    "lst.sort()\n",
    "print(lst)\n",
    "print(len(lst))\n",
    "\n",
    "\n",
    "names = [\"suliman\" , \"sultan\" , \"walid\"]\n",
    "age = [25 , 14 ,55]\n",
    "cities = [ \"Rabigh\" , \"Riyadh\" ,\"Dammam\"]\n",
    "\n",
    "x = zip(names , age ,cities)\n",
    "print(tuple(x))\n",
    "\n",
    "even = list(range(2,21,2))\n",
    "print(even)\n",
    "\n",
    "\n"
   ]
  },
  {
   "cell_type": "markdown",
   "metadata": {
    "id": "aStW5p7AbDUI"
   },
   "source": [
    "### Task 3\n",
    "Build a phone book program that receives the phone number, and returns the name of the owner.\n",
    "You can follow the table below:\n",
    "\n",
    "| Name     | Number     |\n",
    "| -------- | ---------- |\n",
    "| Amal     | 1111111111 |\n",
    "| Mohammed | 2222222222 |\n",
    "| Khadijah | 3333333333 |\n",
    "| Abdullah | 4444444444 |\n",
    "| Rawan    | 5555555555 |\n",
    "| Faisal   | 6666666666 |\n",
    "| Layla    | 7777777777 |\n",
    "\n",
    "- If the number exists, print the owner. Otherwise, print \"Sorry, the number is not found\".\n",
    "- If the number is less or more than 10 numbers, print \"This is invalid number\".\n",
    "- If the number contains letters or symbols, print \"This is invalid number\".\n"
   ]
  },
  {
   "cell_type": "code",
   "execution_count": null,
   "metadata": {
    "id": "kvXmjUe-bDUJ"
   },
   "outputs": [],
   "source": [
    "# write your code here ^_^\n",
    "def find_owner(phone_number):\n",
    "    phone_book = {\n",
    "        \"1111111111\": \"Amal\",\n",
    "        \"2222222222\": \"Mohammed\",\n",
    "        \"3333333333\": \"Khadijah\",\n",
    "        \"4444444444\": \"Abdullah\",\n",
    "        \"5555555555\": \"Rawan\",\n",
    "        \"6666666666\": \"Faisal\",\n",
    "        \"7777777777\": \"Layla\"\n",
    "    }\n",
    "    \n",
    "    if not phone_number.isdigit() or len(phone_number) != 10:\n",
    "        return \"This is an invalid number\"\n",
    "    \n",
    "    return phone_book.get(phone_number, \"Sorry, the number is not found\")\n",
    "\n",
    "phone_number = input(\"Enter a phone number: \")\n",
    "print(find_owner(phone_number))\n"
   ]
  },
  {
   "cell_type": "markdown",
   "metadata": {
    "id": "exLHQ28nbDUJ"
   },
   "source": [
    "### Task 4\n",
    "- Given the following list : [5, 4, 17, 19, 30, 2, 7, 10, 45]\n",
    "    1. Use a lambda function to filter out only the odd numbers.\n",
    "    2. Print the new list of odd numbers."
   ]
  },
  {
   "cell_type": "code",
   "execution_count": null,
   "metadata": {
    "id": "64SUsh1cbDUJ"
   },
   "outputs": [],
   "source": [
    "# write your code here ^_^\n",
    "numbers = [5, 4, 17, 19, 30, 2, 7, 10, 45]\n",
    "\n",
    "odd = list(filter(lambda x: x % 2 != 0, numbers))\n",
    "\n",
    "print(odd)"
   ]
  }
 ],
 "metadata": {
  "colab": {
   "provenance": []
  },
  "kernelspec": {
   "display_name": "Python 3",
   "language": "python",
   "name": "python3"
  },
  "language_info": {
   "codemirror_mode": {
    "name": "ipython",
    "version": 3
   },
   "file_extension": ".py",
   "mimetype": "text/x-python",
   "name": "python",
   "nbconvert_exporter": "python",
   "pygments_lexer": "ipython3",
   "version": "3.10.4"
  }
 },
 "nbformat": 4,
 "nbformat_minor": 0
}
